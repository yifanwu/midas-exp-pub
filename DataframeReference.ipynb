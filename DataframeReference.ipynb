{
 "cells": [
  {
   "cell_type": "markdown",
   "metadata": {},
   "source": [
    "## Querying Data\n",
    "\n",
    "Midas supports dataframes with syntax using that of the [data science module](http://data8.org/datascience/) from Data 8. The following list a quick guide, and in the cells below we have more concrete examples:\n",
    "\n",
    "* SELECT: `df.select(['col_name', 'more_col_name'])`---note that columns are referenced as strings. Note that you can also access the columns as numpy arrays by using `df['col_name']`, which can be handy to use methods like `np.average(df['col_name'])`.\n",
    "* WHERE: `df.where('col_name', predicate)` -- the predicates are using lambda functions provided in the [`are`](http://data8.org/datascience/predicates.html) library.\n",
    "* GROUP: `df.group('col_name', agg_fun)`, the default aggregation for a `group` is count, but you can also supply the aggregation by using existing aggregation functions such as Python's built in `sum`, `min`, `max` (or any of the `numpy` aggregation methods that work on arrays). The groupby operation is applied to all the columns that are not being grouped by on.\n",
    "* Apply general methods: `df.apply(map_fun, new_column_name)`---note that this is _not_ row level, you have to specify the columns you need.\n",
    "\n",
    "The following are useful for data modification:\n",
    "* `df['label']= values` defines the value of a (new) column, note that values must be a numpy array.\n",
    "* `drop` is useful for dropping a column, for instance, one that you just created.\n",
    "* `sort` is useful for sorting\n",
    "\n",
    "Below is a list if you want to look up more functions, http://data8.org/sp20/python-reference.html, but for the sake of the user study, we recommend that you stick to the common functionalities."
   ]
  },
  {
   "cell_type": "code",
   "execution_count": 1,
   "metadata": {},
   "outputs": [],
   "source": [
    "# we have imported the relevant functions here\n",
    "from datascience import Table, are\n",
    "from datascience.util import make_array"
   ]
  },
  {
   "cell_type": "code",
   "execution_count": 2,
   "metadata": {},
   "outputs": [],
   "source": [
    "# a toy dataframe for you to understand\n",
    "t = Table().with_columns(\n",
    "   'letter', make_array('a', 'b', 'c', 'a', 'b'),\n",
    "   'count',  make_array(9, 3, 3, 1, 2),\n",
    "   'points', make_array(1, 2, 2, 10, 1)\n",
    ")"
   ]
  },
  {
   "cell_type": "markdown",
   "metadata": {},
   "source": [
    "## Select"
   ]
  },
  {
   "cell_type": "code",
   "execution_count": 3,
   "metadata": {},
   "outputs": [
    {
     "data": {
      "text/html": [
       "<table border=\"1\" class=\"dataframe\">\n",
       "    <thead>\n",
       "        <tr>\n",
       "            <th>letter</th>\n",
       "        </tr>\n",
       "    </thead>\n",
       "    <tbody>\n",
       "        <tr>\n",
       "            <td>a     </td>\n",
       "        </tr>\n",
       "        <tr>\n",
       "            <td>b     </td>\n",
       "        </tr>\n",
       "        <tr>\n",
       "            <td>c     </td>\n",
       "        </tr>\n",
       "        <tr>\n",
       "            <td>a     </td>\n",
       "        </tr>\n",
       "        <tr>\n",
       "            <td>b     </td>\n",
       "        </tr>\n",
       "    </tbody>\n",
       "</table>"
      ],
      "text/plain": [
       "letter\n",
       "a\n",
       "b\n",
       "c\n",
       "a\n",
       "b"
      ]
     },
     "execution_count": 3,
     "metadata": {},
     "output_type": "execute_result"
    }
   ],
   "source": [
    "t.select(['letter'])"
   ]
  },
  {
   "cell_type": "code",
   "execution_count": 4,
   "metadata": {},
   "outputs": [
    {
     "data": {
      "text/plain": [
       "array(['a', 'b', 'c'], dtype='<U1')"
      ]
     },
     "execution_count": 4,
     "metadata": {},
     "output_type": "execute_result"
    }
   ],
   "source": [
    "# you can also use the column series with numpy functions directly\n",
    "import numpy as np\n",
    "np.unique(t['letter'])"
   ]
  },
  {
   "cell_type": "code",
   "execution_count": 5,
   "metadata": {},
   "outputs": [
    {
     "data": {
      "text/plain": [
       "Row(letter='a', count=9, points=1)"
      ]
     },
     "execution_count": 5,
     "metadata": {},
     "output_type": "execute_result"
    }
   ],
   "source": [
    "# you can also access rows\n",
    "t.row(0)"
   ]
  },
  {
   "cell_type": "code",
   "execution_count": 6,
   "metadata": {},
   "outputs": [
    {
     "data": {
      "text/plain": [
       "'a'"
      ]
     },
     "execution_count": 6,
     "metadata": {},
     "output_type": "execute_result"
    }
   ],
   "source": [
    "t.row(0).letter"
   ]
  },
  {
   "cell_type": "markdown",
   "metadata": {},
   "source": [
    "## Where"
   ]
  },
  {
   "cell_type": "code",
   "execution_count": 7,
   "metadata": {},
   "outputs": [
    {
     "data": {
      "text/html": [
       "<table border=\"1\" class=\"dataframe\">\n",
       "    <thead>\n",
       "        <tr>\n",
       "            <th>letter</th> <th>count</th> <th>points</th>\n",
       "        </tr>\n",
       "    </thead>\n",
       "    <tbody>\n",
       "        <tr>\n",
       "            <td>a     </td> <td>9    </td> <td>1     </td>\n",
       "        </tr>\n",
       "        <tr>\n",
       "            <td>a     </td> <td>1    </td> <td>10    </td>\n",
       "        </tr>\n",
       "    </tbody>\n",
       "</table>"
      ],
      "text/plain": [
       "letter | count | points\n",
       "a      | 9     | 1\n",
       "a      | 1     | 10"
      ]
     },
     "execution_count": 7,
     "metadata": {},
     "output_type": "execute_result"
    }
   ],
   "source": [
    "t.where('letter', 'a')"
   ]
  },
  {
   "cell_type": "code",
   "execution_count": 8,
   "metadata": {},
   "outputs": [
    {
     "data": {
      "text/html": [
       "<table border=\"1\" class=\"dataframe\">\n",
       "    <thead>\n",
       "        <tr>\n",
       "            <th>letter</th> <th>count</th> <th>points</th>\n",
       "        </tr>\n",
       "    </thead>\n",
       "    <tbody>\n",
       "        <tr>\n",
       "            <td>a     </td> <td>9    </td> <td>1     </td>\n",
       "        </tr>\n",
       "    </tbody>\n",
       "</table>"
      ],
      "text/plain": [
       "letter | count | points\n",
       "a      | 9     | 1"
      ]
     },
     "execution_count": 8,
     "metadata": {},
     "output_type": "execute_result"
    }
   ],
   "source": [
    "# note different from pandas, like `df[df['a']>8]`\n",
    "t.where('count', are.above(4))"
   ]
  },
  {
   "cell_type": "code",
   "execution_count": 9,
   "metadata": {},
   "outputs": [
    {
     "data": {
      "text/html": [
       "<table border=\"1\" class=\"dataframe\">\n",
       "    <thead>\n",
       "        <tr>\n",
       "            <th>letter</th> <th>count</th> <th>points</th>\n",
       "        </tr>\n",
       "    </thead>\n",
       "    <tbody>\n",
       "        <tr>\n",
       "            <td>a     </td> <td>9    </td> <td>1     </td>\n",
       "        </tr>\n",
       "        <tr>\n",
       "            <td>b     </td> <td>3    </td> <td>2     </td>\n",
       "        </tr>\n",
       "        <tr>\n",
       "            <td>c     </td> <td>3    </td> <td>2     </td>\n",
       "        </tr>\n",
       "        <tr>\n",
       "            <td>b     </td> <td>2    </td> <td>1     </td>\n",
       "        </tr>\n",
       "    </tbody>\n",
       "</table>"
      ],
      "text/plain": [
       "letter | count | points\n",
       "a      | 9     | 1\n",
       "b      | 3     | 2\n",
       "c      | 3     | 2\n",
       "b      | 2     | 1"
      ]
     },
     "execution_count": 9,
     "metadata": {},
     "output_type": "execute_result"
    }
   ],
   "source": [
    "# compare two columns\n",
    "t.where(\"count\", are.above, \"points\")"
   ]
  },
  {
   "cell_type": "markdown",
   "metadata": {},
   "source": [
    "## Group"
   ]
  },
  {
   "cell_type": "code",
   "execution_count": 10,
   "metadata": {},
   "outputs": [
    {
     "data": {
      "text/html": [
       "<table border=\"1\" class=\"dataframe\">\n",
       "    <thead>\n",
       "        <tr>\n",
       "            <th>letter</th> <th>count</th>\n",
       "        </tr>\n",
       "    </thead>\n",
       "    <tbody>\n",
       "        <tr>\n",
       "            <td>a     </td> <td>2    </td>\n",
       "        </tr>\n",
       "        <tr>\n",
       "            <td>b     </td> <td>2    </td>\n",
       "        </tr>\n",
       "        <tr>\n",
       "            <td>c     </td> <td>1    </td>\n",
       "        </tr>\n",
       "    </tbody>\n",
       "</table>"
      ],
      "text/plain": [
       "letter | count\n",
       "a      | 2\n",
       "b      | 2\n",
       "c      | 1"
      ]
     },
     "execution_count": 10,
     "metadata": {},
     "output_type": "execute_result"
    }
   ],
   "source": [
    "# the default performs a count\n",
    "t.group('letter')"
   ]
  },
  {
   "cell_type": "code",
   "execution_count": 11,
   "metadata": {},
   "outputs": [
    {
     "data": {
      "text/html": [
       "<table border=\"1\" class=\"dataframe\">\n",
       "    <thead>\n",
       "        <tr>\n",
       "            <th>letter</th> <th>count sum</th> <th>points sum</th>\n",
       "        </tr>\n",
       "    </thead>\n",
       "    <tbody>\n",
       "        <tr>\n",
       "            <td>a     </td> <td>10       </td> <td>11        </td>\n",
       "        </tr>\n",
       "        <tr>\n",
       "            <td>b     </td> <td>5        </td> <td>3         </td>\n",
       "        </tr>\n",
       "        <tr>\n",
       "            <td>c     </td> <td>3        </td> <td>2         </td>\n",
       "        </tr>\n",
       "    </tbody>\n",
       "</table>"
      ],
      "text/plain": [
       "letter | count sum | points sum\n",
       "a      | 10        | 11\n",
       "b      | 5         | 3\n",
       "c      | 3         | 2"
      ]
     },
     "execution_count": 11,
     "metadata": {},
     "output_type": "execute_result"
    }
   ],
   "source": [
    "t.group('letter', sum)"
   ]
  },
  {
   "cell_type": "code",
   "execution_count": 12,
   "metadata": {},
   "outputs": [
    {
     "data": {
      "text/html": [
       "<table border=\"1\" class=\"dataframe\">\n",
       "    <thead>\n",
       "        <tr>\n",
       "            <th>letter</th> <th>points sum</th>\n",
       "        </tr>\n",
       "    </thead>\n",
       "    <tbody>\n",
       "        <tr>\n",
       "            <td>a     </td> <td>11        </td>\n",
       "        </tr>\n",
       "        <tr>\n",
       "            <td>b     </td> <td>3         </td>\n",
       "        </tr>\n",
       "        <tr>\n",
       "            <td>c     </td> <td>2         </td>\n",
       "        </tr>\n",
       "    </tbody>\n",
       "</table>"
      ],
      "text/plain": [
       "letter | points sum\n",
       "a      | 11\n",
       "b      | 3\n",
       "c      | 2"
      ]
     },
     "execution_count": 12,
     "metadata": {},
     "output_type": "execute_result"
    }
   ],
   "source": [
    "t.select(['letter', 'points']).group('letter', sum)"
   ]
  },
  {
   "cell_type": "markdown",
   "metadata": {},
   "source": [
    "## Apply"
   ]
  },
  {
   "cell_type": "code",
   "execution_count": 13,
   "metadata": {},
   "outputs": [
    {
     "data": {
      "text/plain": [
       "array([0, 1, 1, 9, 0])"
      ]
     },
     "execution_count": 13,
     "metadata": {},
     "output_type": "execute_result"
    }
   ],
   "source": [
    "# apply function to all rows in a column\n",
    "t.apply(lambda x: x - 1, 'points')"
   ]
  },
  {
   "cell_type": "code",
   "execution_count": 14,
   "metadata": {},
   "outputs": [
    {
     "data": {
      "text/plain": [
       "array([ 9,  6,  6, 10,  2])"
      ]
     },
     "execution_count": 14,
     "metadata": {},
     "output_type": "execute_result"
    }
   ],
   "source": [
    "# apply function for two columns\n",
    "t.apply(lambda x, y: x * y, 'count', 'points')"
   ]
  },
  {
   "cell_type": "markdown",
   "metadata": {},
   "source": [
    "## Append Column or Rows"
   ]
  },
  {
   "cell_type": "code",
   "execution_count": 15,
   "metadata": {},
   "outputs": [
    {
     "data": {
      "text/html": [
       "<table border=\"1\" class=\"dataframe\">\n",
       "    <thead>\n",
       "        <tr>\n",
       "            <th>letter</th> <th>count</th> <th>points</th>\n",
       "        </tr>\n",
       "    </thead>\n",
       "    <tbody>\n",
       "        <tr>\n",
       "            <td>a     </td> <td>9    </td> <td>1     </td>\n",
       "        </tr>\n",
       "        <tr>\n",
       "            <td>b     </td> <td>3    </td> <td>2     </td>\n",
       "        </tr>\n",
       "        <tr>\n",
       "            <td>c     </td> <td>3    </td> <td>2     </td>\n",
       "        </tr>\n",
       "        <tr>\n",
       "            <td>a     </td> <td>1    </td> <td>10    </td>\n",
       "        </tr>\n",
       "        <tr>\n",
       "            <td>b     </td> <td>2    </td> <td>1     </td>\n",
       "        </tr>\n",
       "        <tr>\n",
       "            <td>a     </td> <td>10   </td> <td>3     </td>\n",
       "        </tr>\n",
       "    </tbody>\n",
       "</table>"
      ],
      "text/plain": [
       "letter | count | points\n",
       "a      | 9     | 1\n",
       "b      | 3     | 2\n",
       "c      | 3     | 2\n",
       "a      | 1     | 10\n",
       "b      | 2     | 1\n",
       "a      | 10    | 3"
      ]
     },
     "execution_count": 15,
     "metadata": {},
     "output_type": "execute_result"
    }
   ],
   "source": [
    "t.append(('a', 10, 3))"
   ]
  },
  {
   "cell_type": "code",
   "execution_count": 16,
   "metadata": {},
   "outputs": [
    {
     "data": {
      "text/html": [
       "<table border=\"1\" class=\"dataframe\">\n",
       "    <thead>\n",
       "        <tr>\n",
       "            <th>letter</th> <th>count</th> <th>points</th> <th>less_points</th>\n",
       "        </tr>\n",
       "    </thead>\n",
       "    <tbody>\n",
       "        <tr>\n",
       "            <td>a     </td> <td>9    </td> <td>1     </td> <td>0          </td>\n",
       "        </tr>\n",
       "        <tr>\n",
       "            <td>b     </td> <td>3    </td> <td>2     </td> <td>1          </td>\n",
       "        </tr>\n",
       "        <tr>\n",
       "            <td>c     </td> <td>3    </td> <td>2     </td> <td>1          </td>\n",
       "        </tr>\n",
       "        <tr>\n",
       "            <td>a     </td> <td>1    </td> <td>10    </td> <td>9          </td>\n",
       "        </tr>\n",
       "        <tr>\n",
       "            <td>b     </td> <td>2    </td> <td>1     </td> <td>0          </td>\n",
       "        </tr>\n",
       "        <tr>\n",
       "            <td>a     </td> <td>10   </td> <td>3     </td> <td>2          </td>\n",
       "        </tr>\n",
       "    </tbody>\n",
       "</table>"
      ],
      "text/plain": [
       "letter | count | points | less_points\n",
       "a      | 9     | 1      | 0\n",
       "b      | 3     | 2      | 1\n",
       "c      | 3     | 2      | 1\n",
       "a      | 1     | 10     | 9\n",
       "b      | 2     | 1      | 0\n",
       "a      | 10    | 3      | 2"
      ]
     },
     "execution_count": 16,
     "metadata": {},
     "output_type": "execute_result"
    }
   ],
   "source": [
    "t['less_points'] = t.apply(lambda x: x - 1, 'points')\n",
    "t"
   ]
  },
  {
   "cell_type": "code",
   "execution_count": 17,
   "metadata": {},
   "outputs": [
    {
     "data": {
      "text/html": [
       "<table border=\"1\" class=\"dataframe\">\n",
       "    <thead>\n",
       "        <tr>\n",
       "            <th>letter</th> <th>count</th> <th>points</th>\n",
       "        </tr>\n",
       "    </thead>\n",
       "    <tbody>\n",
       "        <tr>\n",
       "            <td>a     </td> <td>9    </td> <td>1     </td>\n",
       "        </tr>\n",
       "        <tr>\n",
       "            <td>b     </td> <td>3    </td> <td>2     </td>\n",
       "        </tr>\n",
       "        <tr>\n",
       "            <td>c     </td> <td>3    </td> <td>2     </td>\n",
       "        </tr>\n",
       "        <tr>\n",
       "            <td>a     </td> <td>1    </td> <td>10    </td>\n",
       "        </tr>\n",
       "        <tr>\n",
       "            <td>b     </td> <td>2    </td> <td>1     </td>\n",
       "        </tr>\n",
       "        <tr>\n",
       "            <td>a     </td> <td>10   </td> <td>3     </td>\n",
       "        </tr>\n",
       "    </tbody>\n",
       "</table>"
      ],
      "text/plain": [
       "letter | count | points\n",
       "a      | 9     | 1\n",
       "b      | 3     | 2\n",
       "c      | 3     | 2\n",
       "a      | 1     | 10\n",
       "b      | 2     | 1\n",
       "a      | 10    | 3"
      ]
     },
     "execution_count": 17,
     "metadata": {},
     "output_type": "execute_result"
    }
   ],
   "source": [
    "# then you can remove it\n",
    "t = t.drop('less_points')\n",
    "t"
   ]
  },
  {
   "cell_type": "markdown",
   "metadata": {},
   "source": [
    "## Sorting"
   ]
  },
  {
   "cell_type": "code",
   "execution_count": 18,
   "metadata": {},
   "outputs": [
    {
     "data": {
      "text/html": [
       "<table border=\"1\" class=\"dataframe\">\n",
       "    <thead>\n",
       "        <tr>\n",
       "            <th>letter</th> <th>count</th> <th>points</th>\n",
       "        </tr>\n",
       "    </thead>\n",
       "    <tbody>\n",
       "        <tr>\n",
       "            <td>a     </td> <td>9    </td> <td>1     </td>\n",
       "        </tr>\n",
       "        <tr>\n",
       "            <td>b     </td> <td>2    </td> <td>1     </td>\n",
       "        </tr>\n",
       "        <tr>\n",
       "            <td>b     </td> <td>3    </td> <td>2     </td>\n",
       "        </tr>\n",
       "        <tr>\n",
       "            <td>c     </td> <td>3    </td> <td>2     </td>\n",
       "        </tr>\n",
       "        <tr>\n",
       "            <td>a     </td> <td>10   </td> <td>3     </td>\n",
       "        </tr>\n",
       "        <tr>\n",
       "            <td>a     </td> <td>1    </td> <td>10    </td>\n",
       "        </tr>\n",
       "    </tbody>\n",
       "</table>"
      ],
      "text/plain": [
       "letter | count | points\n",
       "a      | 9     | 1\n",
       "b      | 2     | 1\n",
       "b      | 3     | 2\n",
       "c      | 3     | 2\n",
       "a      | 10    | 3\n",
       "a      | 1     | 10"
      ]
     },
     "execution_count": 18,
     "metadata": {},
     "output_type": "execute_result"
    }
   ],
   "source": [
    "t.sort('points')"
   ]
  },
  {
   "cell_type": "code",
   "execution_count": 19,
   "metadata": {},
   "outputs": [
    {
     "data": {
      "text/html": [
       "<table border=\"1\" class=\"dataframe\">\n",
       "    <thead>\n",
       "        <tr>\n",
       "            <th>letter</th> <th>count</th> <th>points</th>\n",
       "        </tr>\n",
       "    </thead>\n",
       "    <tbody>\n",
       "        <tr>\n",
       "            <td>a     </td> <td>1    </td> <td>10    </td>\n",
       "        </tr>\n",
       "        <tr>\n",
       "            <td>a     </td> <td>10   </td> <td>3     </td>\n",
       "        </tr>\n",
       "        <tr>\n",
       "            <td>c     </td> <td>3    </td> <td>2     </td>\n",
       "        </tr>\n",
       "        <tr>\n",
       "            <td>b     </td> <td>3    </td> <td>2     </td>\n",
       "        </tr>\n",
       "        <tr>\n",
       "            <td>b     </td> <td>2    </td> <td>1     </td>\n",
       "        </tr>\n",
       "        <tr>\n",
       "            <td>a     </td> <td>9    </td> <td>1     </td>\n",
       "        </tr>\n",
       "    </tbody>\n",
       "</table>"
      ],
      "text/plain": [
       "letter | count | points\n",
       "a      | 1     | 10\n",
       "a      | 10    | 3\n",
       "c      | 3     | 2\n",
       "b      | 3     | 2\n",
       "b      | 2     | 1\n",
       "a      | 9     | 1"
      ]
     },
     "execution_count": 19,
     "metadata": {},
     "output_type": "execute_result"
    }
   ],
   "source": [
    "t.sort('points', descending = True)"
   ]
  },
  {
   "cell_type": "code",
   "execution_count": null,
   "metadata": {},
   "outputs": [],
   "source": []
  },
  {
   "cell_type": "markdown",
   "metadata": {},
   "source": [
    "## Basic Visualizations"
   ]
  },
  {
   "cell_type": "code",
   "execution_count": 20,
   "metadata": {},
   "outputs": [
    {
     "data": {
      "text/html": [
       "<table border=\"1\" class=\"dataframe\">\n",
       "    <thead>\n",
       "        <tr>\n",
       "            <th>STATE</th> <th>COUNTY</th> <th>LATITUDE</th> <th>LONGITUDE</th> <th>FIRE_SIZE</th> <th>CAUSE_CODE</th> <th>CAUSE_DESCR</th> <th>DISCOVERY_DATE</th> <th>DISCOVERY_TIME</th> <th>CONT_DATE</th> <th>CONT_TIME</th>\n",
       "        </tr>\n",
       "    </thead>\n",
       "    <tbody>\n",
       "        <tr>\n",
       "            <td>GA   </td> <td>Bulloch             </td> <td>32.3551 </td> <td>-81.8311 </td> <td>7.5      </td> <td>5         </td> <td>Debris Burning</td> <td>2.45232e+06   </td> <td>13            </td> <td>2.45232e+06</td> <td>13       </td>\n",
       "        </tr>\n",
       "        <tr>\n",
       "            <td>UT   </td> <td>San Juan            </td> <td>37.6603 </td> <td>-109.551 </td> <td>10       </td> <td>1         </td> <td>Lightning     </td> <td>2.45137e+06   </td> <td>18            </td> <td>2.45137e+06</td> <td>13       </td>\n",
       "        </tr>\n",
       "        <tr>\n",
       "            <td>UT   </td> <td>Cache               </td> <td>41.8406 </td> <td>-111.714 </td> <td>0.1      </td> <td>1         </td> <td>Lightning     </td> <td>2.45689e+06   </td> <td>19            </td> <td>2.4569e+06 </td> <td>17       </td>\n",
       "        </tr>\n",
       "        <tr>\n",
       "            <td>OR   </td> <td>Douglas             </td> <td>43.5933 </td> <td>-123.271 </td> <td>0.01     </td> <td>5         </td> <td>Debris Burning</td> <td>2.45684e+06   </td> <td>13            </td> <td>2.45684e+06</td> <td>13       </td>\n",
       "        </tr>\n",
       "        <tr>\n",
       "            <td>AR   </td> <td>SEVIER              </td> <td>33.8706 </td> <td>-94.1844 </td> <td>1        </td> <td>7         </td> <td>Arson         </td> <td>2.45668e+06   </td> <td>13            </td> <td>2.45668e+06</td> <td>16       </td>\n",
       "        </tr>\n",
       "        <tr>\n",
       "            <td>MS   </td> <td>Rankin              </td> <td>32.1178 </td> <td>-89.75   </td> <td>1        </td> <td>3         </td> <td>Smoking       </td> <td>2.44977e+06   </td> <td>17            </td> <td>2.44977e+06</td> <td>18       </td>\n",
       "        </tr>\n",
       "        <tr>\n",
       "            <td>AZ   </td> <td>Pima                </td> <td>32.3733 </td> <td>-112.696 </td> <td>1        </td> <td>9         </td> <td>Miscellaneous </td> <td>2.45681e+06   </td> <td>6             </td> <td>2.45681e+06</td> <td>14       </td>\n",
       "        </tr>\n",
       "        <tr>\n",
       "            <td>GA   </td> <td>Cherokee            </td> <td>34.2243 </td> <td>-84.5505 </td> <td>6.02     </td> <td>7         </td> <td>Arson         </td> <td>2.44906e+06   </td> <td>16            </td> <td>2.44906e+06</td> <td>18       </td>\n",
       "        </tr>\n",
       "        <tr>\n",
       "            <td>TN   </td> <td>LAWRENCE            </td> <td>35.2964 </td> <td>-87.4779 </td> <td>0.2      </td> <td>5         </td> <td>Debris Burning</td> <td>2.45515e+06   </td> <td>12            </td> <td>2.45515e+06</td> <td>13       </td>\n",
       "        </tr>\n",
       "        <tr>\n",
       "            <td>ID   </td> <td>Bingham             </td> <td>43.0544 </td> <td>-112.372 </td> <td>20.6     </td> <td>10        </td> <td>Fireworks     </td> <td>2.45427e+06   </td> <td>9             </td> <td>2.45427e+06</td> <td>17       </td>\n",
       "        </tr>\n",
       "    </tbody>\n",
       "</table>\n",
       "<p>... (4990 rows omitted)</p>"
      ],
      "text/plain": [
       "STATE | COUNTY               | LATITUDE | LONGITUDE | FIRE_SIZE | CAUSE_CODE | CAUSE_DESCR    | DISCOVERY_DATE | DISCOVERY_TIME | CONT_DATE   | CONT_TIME\n",
       "GA    | Bulloch              | 32.3551  | -81.8311  | 7.5       | 5          | Debris Burning | 2.45232e+06    | 13             | 2.45232e+06 | 13\n",
       "UT    | San Juan             | 37.6603  | -109.551  | 10        | 1          | Lightning      | 2.45137e+06    | 18             | 2.45137e+06 | 13\n",
       "UT    | Cache                | 41.8406  | -111.714  | 0.1       | 1          | Lightning      | 2.45689e+06    | 19             | 2.4569e+06  | 17\n",
       "OR    | Douglas              | 43.5933  | -123.271  | 0.01      | 5          | Debris Burning | 2.45684e+06    | 13             | 2.45684e+06 | 13\n",
       "AR    | SEVIER               | 33.8706  | -94.1844  | 1         | 7          | Arson          | 2.45668e+06    | 13             | 2.45668e+06 | 16\n",
       "MS    | Rankin               | 32.1178  | -89.75    | 1         | 3          | Smoking        | 2.44977e+06    | 17             | 2.44977e+06 | 18\n",
       "AZ    | Pima                 | 32.3733  | -112.696  | 1         | 9          | Miscellaneous  | 2.45681e+06    | 6              | 2.45681e+06 | 14\n",
       "GA    | Cherokee             | 34.2243  | -84.5505  | 6.02      | 7          | Arson          | 2.44906e+06    | 16             | 2.44906e+06 | 18\n",
       "TN    | LAWRENCE             | 35.2964  | -87.4779  | 0.2       | 5          | Debris Burning | 2.45515e+06    | 12             | 2.45515e+06 | 13\n",
       "ID    | Bingham              | 43.0544  | -112.372  | 20.6      | 10         | Fireworks      | 2.45427e+06    | 9              | 2.45427e+06 | 17\n",
       "... (4990 rows omitted)"
      ]
     },
     "execution_count": 20,
     "metadata": {},
     "output_type": "execute_result"
    }
   ],
   "source": [
    "fires_df = Table.read_table(\"./data/fires.csv\")\n",
    "fires_df"
   ]
  },
  {
   "cell_type": "code",
   "execution_count": 21,
   "metadata": {},
   "outputs": [],
   "source": [
    "test_df = Table().with_columns(\n",
    "         'days',  make_array(0, 1, 2, 3, 4, 5),\n",
    "         'price', make_array(90.5, 90.00, 83.00, 95.50, 82.00, 82.00),\n",
    "         'projection', make_array(90.75, 82.00, 82.50, 82.50, 83.00, 82.50))"
   ]
  },
  {
   "cell_type": "code",
   "execution_count": 22,
   "metadata": {},
   "outputs": [
    {
     "data": {
      "image/png": "[encoded data removed]",
      "text/plain": [
       "<Figure size 432x288 with 1 Axes>"
      ]
     },
     "metadata": {
      "needs_background": "light"
     },
     "output_type": "display_data"
    }
   ],
   "source": [
    "%matplotlib inline\n",
    "# line charts \n",
    "test_df.plot('days') "
   ]
  },
  {
   "cell_type": "code",
   "execution_count": 23,
   "metadata": {},
   "outputs": [
    {
     "data": {
      "image/png": "[encoded data removed]",
      "text/plain": [
       "<Figure size 432x288 with 1 Axes>"
      ]
     },
     "metadata": {
      "needs_background": "light"
     },
     "output_type": "display_data"
    }
   ],
   "source": [
    "# line charts \n",
    "test_df.plot('days', 'price') "
   ]
  },
  {
   "cell_type": "code",
   "execution_count": 24,
   "metadata": {},
   "outputs": [
    {
     "data": {
      "image/png": "[encoded data removed]",
      "text/plain": [
       "<Figure size 432x288 with 1 Axes>"
      ]
     },
     "metadata": {
      "needs_background": "light"
     },
     "output_type": "display_data"
    }
   ],
   "source": [
    "test_df.bar('days', 'price')"
   ]
  },
  {
   "cell_type": "code",
   "execution_count": 25,
   "metadata": {},
   "outputs": [
    {
     "data": {
      "image/png": "[encoded data removed]",
      "text/plain": [
       "<Figure size 432x288 with 1 Axes>"
      ]
     },
     "metadata": {
      "needs_background": "light"
     },
     "output_type": "display_data"
    }
   ],
   "source": [
    "test_df.hist('price')"
   ]
  },
  {
   "cell_type": "code",
   "execution_count": 26,
   "metadata": {},
   "outputs": [
    {
     "data": {
      "image/png": "[encoded data removed]",
      "text/plain": [
       "<Figure size 360x360 with 1 Axes>"
      ]
     },
     "metadata": {
      "needs_background": "light"
     },
     "output_type": "display_data"
    }
   ],
   "source": [
    "test_df.scatter('price', 'projection')"
   ]
  },
  {
   "cell_type": "markdown",
   "metadata": {},
   "source": [
    "## You can also use Pandas' plotting utilities\n",
    "\n",
    "You are also welcome to use other plotting libraries that you are familiar with already.\n",
    "\n",
    "Note that <font color=\"red\"> for the sake of our experiment, please use datascience module for your querying needs</font>, and limit pandas to plotting purposes only."
   ]
  },
  {
   "cell_type": "code",
   "execution_count": 27,
   "metadata": {},
   "outputs": [
    {
     "data": {
      "text/plain": [
       "<matplotlib.axes._subplots.AxesSubplot at 0x1a264f6890>"
      ]
     },
     "execution_count": 27,
     "metadata": {},
     "output_type": "execute_result"
    },
    {
     "data": {
      "image/png": "[encoded data removed]",
      "text/plain": [
       "<Figure size 432x288 with 1 Axes>"
      ]
     },
     "metadata": {
      "needs_background": "light"
     },
     "output_type": "display_data"
    }
   ],
   "source": [
    "test_df_pd = test_df.to_df()\n",
    "test_df_pd.plot()"
   ]
  }
 ],
 "metadata": {
  "kernelspec": {
   "display_name": "Python 3",
   "language": "python",
   "name": "python3"
  },
  "language_info": {
   "codemirror_mode": {
    "name": "ipython",
    "version": 3
   },
   "file_extension": ".py",
   "mimetype": "text/x-python",
   "name": "python",
   "nbconvert_exporter": "python",
   "pygments_lexer": "ipython3",
   "version": "3.7.4"
  }
 },
 "nbformat": 4,
 "nbformat_minor": 2
}
