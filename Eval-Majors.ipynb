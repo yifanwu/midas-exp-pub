{
 "cells": [
  {
   "cell_type": "markdown",
   "metadata": {},
   "source": [
    "## Evaluation Task\n",
    "\n",
    "Hello participant! This is the second part of the evaluation, you have 30 minutes to explore and identify interesting facts about the data. Pick one of the following to run based on what your (random) assignment is. Then we will tell you more about the data."
   ]
  },
  {
   "cell_type": "code",
   "execution_count": null,
   "metadata": {},
   "outputs": [],
   "source": [
    "task_id = \"eval_majors\"\n",
    "# please fill out your participand id, e.g., \"pilot_2\" \n",
    "pid = ...\n",
    "\n",
    "from midas import Midas\n",
    "m = Midas(pid, task_id)\n",
    "\n",
    "grads_df = m.from_file(\"./data/recent_grads.csv\")\n",
    "grads_df"
   ]
  },
  {
   "cell_type": "code",
   "execution_count": null,
   "metadata": {},
   "outputs": [],
   "source": [
    "from datascience import Table, are\n",
    "import numpy as np \n",
    "\n",
    "salary_df = Table().read_table(\"./data/recent_grads.csv\")\n",
    "salary_df"
   ]
  },
  {
   "cell_type": "markdown",
   "metadata": {},
   "source": [
    "## Understanding the Data\n",
    "\n",
    "This dataset is taken from the _American Community Survey_. The `grads_df` dataframe contains, in each row, information about each `Major`. Here are some information we have of each `Major`:\n",
    "\n",
    "Header | Description\n",
    "---|---------\n",
    "`Rank` | Rank by median earnings\n",
    "`Major_code` | Major code, FO1DP in ACS PUMS\n",
    "`Major` | Major description\n",
    "`Major_category` | Category of major\n",
    "`Total` | Total number of people with major\n",
    "`Sample_size` | Sample size (unweighted) of full-time, year-round ONLY (used for earnings)\n",
    "`Men` | Male graduates\n",
    "`Women` | Female graduates\n",
    "`ShareWomen` | Women as share of total\n",
    "`Employed` | Number employed (ESR == 1 or 2)\n",
    "`Full_time` | Employed 35 hours or more\n",
    "`Part_time` | Employed less than 35 hours\n",
    "`Full_time_year_round` | Employed at least 50 weeks (WKW == 1) and at least 35 hours (WKHP >= 35)\n",
    "`Unemployed` | Number unemployed (ESR == 3)\n",
    "`Unemployment_rate` | Unemployed / (Unemployed + Employed)\n",
    "`Median` | Median earnings of full-time, year-round workers\n",
    "`P25th` | 25th percentile of earnigns\n",
    "`P75th` | 75th percentile of earnings\n",
    "`College_jobs` | Number with job requiring a college degree\n",
    "`Non_college_jobs` | Number with job not requiring a college degree\n",
    "`Low_wage_jobs` | Number in low-wage service jobs"
   ]
  },
  {
   "cell_type": "markdown",
   "metadata": {},
   "source": [
    "### Task One: Explore (15 min)\n",
    "\n",
    "The goal here is to **learn basic facts** <font color=\"gray\">e.g., X major has the highest median income for recent grads, or most of the top paying majors fall under the Y major category</font>, and **identify note worthy patterns** <font color=\"gray\">e.g., there tend to be less/more/the same percentage of women in high-income majors</font>.\n",
    "\n",
    "**Everytime you have an insight, please create a markdown cell that notes down your finding**. Please create **one insight per cell**. Show relevant graphics if relevant."
   ]
  },
  {
   "cell_type": "code",
   "execution_count": null,
   "metadata": {},
   "outputs": [],
   "source": []
  },
  {
   "cell_type": "markdown",
   "metadata": {},
   "source": [
    "### Task Two: Investigate (15 min)\n",
    "\n",
    "\n",
    "In this section, please come up with a hypothesis and then verify it <font color=\"gray\">e.g., I suspect that there are less women in high-income majors...</font>"
   ]
  },
  {
   "cell_type": "code",
   "execution_count": null,
   "metadata": {},
   "outputs": [],
   "source": []
  }
 ],
 "metadata": {
  "history": [],
  "kernelspec": {
   "display_name": "Python 3",
   "language": "python",
   "name": "python3"
  },
  "language_info": {
   "codemirror_mode": {
    "name": "ipython",
    "version": 3
   },
   "file_extension": ".py",
   "mimetype": "text/x-python",
   "name": "python",
   "nbconvert_exporter": "python",
   "pygments_lexer": "ipython3",
   "version": "3.7.4"
  }
 },
 "nbformat": 4,
 "nbformat_minor": 2
}
