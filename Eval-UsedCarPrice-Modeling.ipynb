{
 "cells": [
  {
   "cell_type": "markdown",
   "metadata": {},
   "source": [
    "# Evaluation: Basic Modeling\n",
    "\n",
    "In this task, we ask you to do do basic model building. We took the dataset from a competition on [Kaggle](https://www.kaggle.com/austinreese/craigslist-carstrucks-data). Using the data provided, create a model of `price` based on the other column values."
   ]
  },
  {
   "cell_type": "markdown",
   "metadata": {},
   "source": [
    "## Column Descriptions\n",
    "\n",
    "column | description\n",
    "------ | --------\n",
    "`id` | entry ID\n",
    "`region` | craigslist region\n",
    "`price` | price of car\n",
    "`year` | entry year\n",
    "`manufacturer` | manufacturer of vehicle\n",
    "`model` | model of vehicle\n",
    "`condition` | condition of vehicle\n",
    "`cylinder` | snumber of cylinders\n",
    "`fuel` | fuel type\n",
    "`odometer` | miles traveled by vehicle\n",
    "`title_status` | title status of vehicle\n",
    "`transmission` | transmission of vehicle\n",
    "`vin` | vehicle identification number\n",
    "`drive` | type of drive\n",
    "`sizes` | ize of vehicle\n",
    "`type` | generic type of vehicle\n",
    "`paint_color` | color of vehicle\n",
    "`description` | listed description of vehicle\n",
    "`state` | state of listing\n",
    "`lat` | latitude  of listing\n",
    "`long` | longitude of listing\n"
   ]
  },
  {
   "cell_type": "markdown",
   "metadata": {},
   "source": [
    "## Relevant Midas Techniques\n",
    "\n",
    "* **Splitting your data into train and test**: you can do `test_df, train_df = cars_df.split(100)`.\n",
    "* **Sampling for faster interactions**: The original data may be too large to be analyzed interactive---you may see a large delay. However, you can sample a subset of data to do interactive analysis first---`sample_train_df = train_df.sample(k=500)`, and then verify your results on the full dataset with static visualizations. You can record the query used by copy-ing out from the cell dropdown (📋), or directly snapping the visualization (📷), which will contain the code to derive the data in the comment.\n",
    "* **Data cleaning and feature enginerring** by modifying or adding new processed columns---for instance the `condition` columns.</font>\n",
    "* **Logging your insights**: often the EDA results will inform your model building. Please log your insights both for that, and for sharing with others."
   ]
  },
  {
   "cell_type": "code",
   "execution_count": 3,
   "metadata": {},
   "outputs": [
    {
     "data": {
      "text/html": [
       "<table border=\"1\" class=\"dataframe\">\n",
       "    <thead>\n",
       "        <tr>\n",
       "            <th>id</th> <th>region</th> <th>price</th> <th>year</th> <th>manufacturer</th> <th>model</th> <th>condition</th> <th>cylinders</th> <th>fuel</th> <th>odometer</th> <th>title_status</th> <th>transmission</th> <th>vin</th> <th>drive</th> <th>size</th> <th>type</th> <th>paint_color</th> <th>description</th> <th>state</th> <th>lat</th> <th>long</th> <th>price_bin</th>\n",
       "        </tr>\n",
       "    </thead>\n",
       "    <tbody>\n",
       "        <tr>\n",
       "            <td>7033757953</td> <td>texoma               </td> <td>875  </td> <td>2002</td> <td>ford        </td> <td>f-150</td> <td>salvage  </td> <td>nan        </td> <td>gas   </td> <td>165000  </td> <td>clean       </td> <td>automatic   </td> <td>nan              </td> <td>nan  </td> <td>nan </td> <td>nan </td> <td>black      </td> <td>2002 Ford F-150. Side of the vehicle is damaged NO FRAME ...</td> <td>ok   </td> <td>33.5429</td> <td>-95.7416</td> <td>0        </td>\n",
       "        </tr>\n",
       "        <tr>\n",
       "            <td>7049364557</td> <td>ft myers / SW florida</td> <td>11999</td> <td>2000</td> <td>ford        </td> <td>f250 </td> <td>nan      </td> <td>nan        </td> <td>diesel</td> <td>nan     </td> <td>clean       </td> <td>automatic   </td> <td>nan              </td> <td>nan  </td> <td>nan </td> <td>nan </td> <td>nan        </td> <td>Clean Title 37s  Cold AC Runs Great 196k 7.3 Diesel Best ...</td> <td>fl   </td> <td>26.6204</td> <td>-81.8725</td> <td>10000    </td>\n",
       "        </tr>\n",
       "        <tr>\n",
       "            <td>7046136964</td> <td>syracuse             </td> <td>19999</td> <td>2015</td> <td>infiniti    </td> <td>qx60 </td> <td>excellent</td> <td>6 cylinders</td> <td>gas   </td> <td>50838   </td> <td>clean       </td> <td>automatic   </td> <td>5N1AL0MMXFC503546</td> <td>4wd  </td> <td>nan </td> <td>SUV </td> <td>white      </td> <td>- 2015 Infiniti QX60 3.5-L V-6 DOHC 24V - Only 50838k on ...</td> <td>ny   </td> <td>43.0847</td> <td>-76.2405</td> <td>18000    </td>\n",
       "        </tr>\n",
       "    </tbody>\n",
       "</table>"
      ],
      "text/plain": [
       "id         | region                | price | year | manufacturer | model | condition | cylinders   | fuel   | odometer | title_status | transmission | vin               | drive | size | type | paint_color | description                                                  | state | lat     | long     | price_bin\n",
       "7033757953 | texoma                | 875   | 2002 | ford         | f-150 | salvage   | nan         | gas    | 165000   | clean        | automatic    | nan               | nan   | nan  | nan  | black       | 2002 Ford F-150. Side of the vehicle is damaged NO FRAME ... | ok    | 33.5429 | -95.7416 | 0\n",
       "7049364557 | ft myers / SW florida | 11999 | 2000 | ford         | f250  | nan       | nan         | diesel | nan      | clean        | automatic    | nan               | nan   | nan  | nan  | nan         | Clean Title 37s  Cold AC Runs Great 196k 7.3 Diesel Best ... | fl    | 26.6204 | -81.8725 | 10000\n",
       "7046136964 | syracuse              | 19999 | 2015 | infiniti     | qx60  | excellent | 6 cylinders | gas    | 50838    | clean        | automatic    | 5N1AL0MMXFC503546 | 4wd   | nan  | SUV  | white       | - 2015 Infiniti QX60 3.5-L V-6 DOHC 24V - Only 50838k on ... | ny    | 43.0847 | -76.2405 | 18000"
      ]
     },
     "execution_count": 3,
     "metadata": {},
     "output_type": "execute_result"
    }
   ],
   "source": [
    "from midas import Midas\n",
    "m = Midas()\n",
    " \n",
    "cars_df = m.from_file(\"./data/vehicles_5k.csv\")\n",
    "cars_df.head(3)"
   ]
  },
  {
   "cell_type": "markdown",
   "metadata": {},
   "source": [
    "## Task One: Exploratory Data Analysis (10 minutes)\n",
    "\n",
    "Please get a basic sense of the data and write down any relevant insights. <font color=\"gray\">E.g., only X percent of the applicants are women, or most of the purpose of the loan is for Y.</font>\n",
    "\n",
    "Please treat this document as a resource to be shared with your (imaginary) team.  You can use either comments or mardown cells to report your insights."
   ]
  },
  {
   "cell_type": "code",
   "execution_count": null,
   "metadata": {},
   "outputs": [],
   "source": []
  },
  {
   "cell_type": "markdown",
   "metadata": {},
   "source": [
    "## Task Two: Build a Basic Model (30 minutes)\n",
    "\n",
    "Please try to model the `price` of the car. We ask you to try to come up with an explanable model based on the exploration you just performed. Please try to limit your features in your final model. If you might have any intuitions about why a model is not working, please also record that.\n",
    "\n",
    "* Feel free to use `sklearn` or whatever library that you are comfortable with E.g., `from sklearn.linear_model import LinearRegression, LogisticRegression`\n",
    "* Feel free to use Pandas dataframe to pass into the libary, simply do `train_df.to_df()`, but we ask you to do the manipulation in our dataframe language\n",
    "* You might need to do some feature engineering---e.g., turing categorical variables into numeric values, or to one-hot-encodings etc.\n",
    "\n",
    "Here is some sample stub code to get you started\n",
    "```\n",
    "from sklearn.linear_model import LinearRegression\n",
    "reg = LinearRegression()\n",
    "y = cleaned.select(['price'])\n",
    "X = cleaned.select(['odometer', 'year'])\n",
    "reg.fit(X.to_df(), y.to_df())\n",
    "```"
   ]
  },
  {
   "cell_type": "code",
   "execution_count": null,
   "metadata": {},
   "outputs": [],
   "source": []
  }
 ],
 "metadata": {
  "kernelspec": {
   "display_name": "Python 3",
   "language": "python",
   "name": "python3"
  },
  "language_info": {
   "codemirror_mode": {
    "name": "ipython",
    "version": 3
   },
   "file_extension": ".py",
   "mimetype": "text/x-python",
   "name": "python",
   "nbconvert_exporter": "python",
   "pygments_lexer": "ipython3",
   "version": "3.7.4"
  }
 },
 "nbformat": 4,
 "nbformat_minor": 2
}
