{
 "cells": [
  {
   "cell_type": "markdown",
   "metadata": {},
   "source": [
    "# Midas Demo\n",
    "\n",
    "Hello! Please follow the tutorial to learn the basics of Midas. We will walk through with a real example and introduce each feature as motivated by a specific need. Until you are done with the tutorial, please do *not* randomly click on the interface, and only do ask is asked in our tutorial. This will help you understand.\n",
    "\n",
    "Should you have any questions, please feel free to ask Yifan, who will be present during the entire session.\n",
    "\n",
    "<font color=\"gray\">If you are using Ubuntu and do not see a blue dot button in the menu bar, that means emojis are not showing properly for you. Please try running `!sudo apt reinstall fonts-noto-color-emoji` in a cell.</font>"
   ]
  },
  {
   "cell_type": "code",
   "execution_count": 1,
   "metadata": {},
   "outputs": [],
   "source": [
    "from midas import Midas\n",
    "import numpy as np\n",
    "\n",
    "# Initiate Midas environment\n",
    "m = Midas()"
   ]
  },
  {
   "cell_type": "markdown",
   "metadata": {},
   "source": [
    "No need to read through the text in the blue pannel---we'll walk you through most of it."
   ]
  },
  {
   "cell_type": "code",
   "execution_count": 2,
   "metadata": {},
   "outputs": [
    {
     "data": {
      "text/html": [
       "<table border=\"1\" class=\"dataframe\">\n",
       "    <thead>\n",
       "        <tr>\n",
       "            <th>STATE</th> <th>COUNTY</th> <th>LATITUDE</th> <th>LONGITUDE</th> <th>FIRE_SIZE</th> <th>CAUSE_CODE</th> <th>CAUSE_DESCR</th> <th>DISCOVERY_DATE</th> <th>DISCOVERY_TIME</th> <th>CONT_DATE</th> <th>CONT_TIME</th>\n",
       "        </tr>\n",
       "    </thead>\n",
       "    <tbody>\n",
       "        <tr>\n",
       "            <td>GA   </td> <td>Baldwin             </td> <td>33.0514 </td> <td>-83.0735 </td> <td>6.65     </td> <td>5         </td> <td>Debris Burning</td> <td>2.45246e+06   </td> <td>1610          </td> <td>2.45246e+06</td> <td>1610     </td>\n",
       "        </tr>\n",
       "        <tr>\n",
       "            <td>WV   </td> <td>Monongalia          </td> <td>39.5665 </td> <td>-80.0572 </td> <td>5        </td> <td>5         </td> <td>Debris Burning</td> <td>2.44977e+06   </td> <td>1550          </td> <td>2.44977e+06</td> <td>1550     </td>\n",
       "        </tr>\n",
       "        <tr>\n",
       "            <td>WV   </td> <td>Logan               </td> <td>37.9409 </td> <td>-82.023  </td> <td>61       </td> <td>10        </td> <td>Fireworks     </td> <td>2.44966e+06   </td> <td>1410          </td> <td>2.44966e+06</td> <td>1410     </td>\n",
       "        </tr>\n",
       "        <tr>\n",
       "            <td>MS   </td> <td>Copiah              </td> <td>31.8092 </td> <td>-90.718  </td> <td>2        </td> <td>2         </td> <td>Equipment Use </td> <td>2.4509e+06    </td> <td>1556          </td> <td>2.4509e+06 </td> <td>1705     </td>\n",
       "        </tr>\n",
       "        <tr>\n",
       "            <td>WA   </td> <td>37                  </td> <td>47.0372 </td> <td>-120.951 </td> <td>0.2      </td> <td>9         </td> <td>Miscellaneous </td> <td>2.4526e+06    </td> <td>800           </td> <td>2.4526e+06 </td> <td>1700     </td>\n",
       "        </tr>\n",
       "        <tr>\n",
       "            <td>GA   </td> <td>Murray              </td> <td>34.7557 </td> <td>-84.719  </td> <td>3.38     </td> <td>5         </td> <td>Debris Burning</td> <td>2.4508e+06    </td> <td>1730          </td> <td>2.4508e+06 </td> <td>2104     </td>\n",
       "        </tr>\n",
       "        <tr>\n",
       "            <td>MS   </td> <td>Yazoo               </td> <td>32.8265 </td> <td>-90.3019 </td> <td>1        </td> <td>7         </td> <td>Arson         </td> <td>2.44959e+06   </td> <td>1200          </td> <td>2.44959e+06</td> <td>1300     </td>\n",
       "        </tr>\n",
       "        <tr>\n",
       "            <td>WV   </td> <td>Mingo               </td> <td>37.8702 </td> <td>-82.2336 </td> <td>5        </td> <td>5         </td> <td>Debris Burning</td> <td>2.45127e+06   </td> <td>1545          </td> <td>2.45127e+06</td> <td>1545     </td>\n",
       "        </tr>\n",
       "        <tr>\n",
       "            <td>CO   </td> <td>Eagle               </td> <td>39.6233 </td> <td>-106.972 </td> <td>0.1      </td> <td>1         </td> <td>Lightning     </td> <td>2.45289e+06   </td> <td>1714          </td> <td>2.45289e+06</td> <td>2100     </td>\n",
       "        </tr>\n",
       "        <tr>\n",
       "            <td>MS   </td> <td>Washington          </td> <td>33.3118 </td> <td>-90.9623 </td> <td>1        </td> <td>5         </td> <td>Debris Burning</td> <td>2.45106e+06   </td> <td>1300          </td> <td>2.45106e+06</td> <td>1600     </td>\n",
       "        </tr>\n",
       "    </tbody>\n",
       "</table>\n",
       "<p>... (4990 rows omitted)</p>"
      ],
      "text/plain": [
       "STATE | COUNTY               | LATITUDE | LONGITUDE | FIRE_SIZE | CAUSE_CODE | CAUSE_DESCR    | DISCOVERY_DATE | DISCOVERY_TIME | CONT_DATE   | CONT_TIME\n",
       "GA    | Baldwin              | 33.0514  | -83.0735  | 6.65      | 5          | Debris Burning | 2.45246e+06    | 1610           | 2.45246e+06 | 1610\n",
       "WV    | Monongalia           | 39.5665  | -80.0572  | 5         | 5          | Debris Burning | 2.44977e+06    | 1550           | 2.44977e+06 | 1550\n",
       "WV    | Logan                | 37.9409  | -82.023   | 61        | 10         | Fireworks      | 2.44966e+06    | 1410           | 2.44966e+06 | 1410\n",
       "MS    | Copiah               | 31.8092  | -90.718   | 2         | 2          | Equipment Use  | 2.4509e+06     | 1556           | 2.4509e+06  | 1705\n",
       "WA    | 37                   | 47.0372  | -120.951  | 0.2       | 9          | Miscellaneous  | 2.4526e+06     | 800            | 2.4526e+06  | 1700\n",
       "GA    | Murray               | 34.7557  | -84.719   | 3.38      | 5          | Debris Burning | 2.4508e+06     | 1730           | 2.4508e+06  | 2104\n",
       "MS    | Yazoo                | 32.8265  | -90.3019  | 1         | 7          | Arson          | 2.44959e+06    | 1200           | 2.44959e+06 | 1300\n",
       "WV    | Mingo                | 37.8702  | -82.2336  | 5         | 5          | Debris Burning | 2.45127e+06    | 1545           | 2.45127e+06 | 1545\n",
       "CO    | Eagle                | 39.6233  | -106.972  | 0.1       | 1          | Lightning      | 2.45289e+06    | 1714           | 2.45289e+06 | 2100\n",
       "MS    | Washington           | 33.3118  | -90.9623  | 1         | 5          | Debris Burning | 2.45106e+06    | 1300           | 2.45106e+06 | 1600\n",
       "... (4990 rows omitted)"
      ]
     },
     "execution_count": 2,
     "metadata": {},
     "output_type": "execute_result"
    }
   ],
   "source": [
    "# Load data\n",
    "fires_df = m.from_file(\"./data/fire_earlier.csv\")\n",
    "fires_df"
   ]
  },
  {
   "cell_type": "markdown",
   "metadata": {},
   "source": [
    "You will see a blue bar below the cell---this is an indicator for where \"Midas generated cells\" will be placed after. You will know what we mean in the next step."
   ]
  },
  {
   "cell_type": "markdown",
   "metadata": {},
   "source": [
    "### <font color=\"0080FF\">Exploratory Analysis: Distribution of Fire Causes</font>\n",
    "\n",
    "From the above table, the first question that come to mind is the distribution of causes of fie (`CAUSE_DESCR`). Conviniently, Midas has a shortcut for seeing column distributions---**please find `CAUSE_DESCR` in the pannel to the right and click it**."
   ]
  },
  {
   "cell_type": "markdown",
   "metadata": {},
   "source": [
    "A cell with yello emoji may be created above---that is because we always create cells after the last executed cell. **Please move it here for organization** ⬇️.  The cell describes the query used to derive the data for the chart, which is a `group` operation, and by default, the aggregation is a `count`. You also see that `.vis` is called at the end---it's useful for customizing your own visualizations. We'll talk more about this later."
   ]
  },
  {
   "cell_type": "markdown",
   "metadata": {},
   "source": [
    "### <font color=\"0080FF\">Exploratory Analysis: Distribution of State</font>\n",
    "\n",
    "Another thing we can look at is how many fires there are by state (`STATE`). Again you can go ahead and **click on the `STATE` column in the yellow pane**."
   ]
  },
  {
   "cell_type": "markdown",
   "metadata": {},
   "source": [
    "Now you might find that you want to see more of the charts---to do this, you can **drag the left edge of the pannel to change the size**. If this is too large, you can **click on \"toggle midas\" and \"toggle column pane\" in the menu bar to hide/show the shelves**."
   ]
  },
  {
   "cell_type": "markdown",
   "metadata": {},
   "source": [
    "### <font color=\"0080FF\">Investigation: Cause Distribution in California</font>\n",
    "\n",
    "Let's get a sense of what fires happen in California---**please click on CA in the `STATE_calls_df_dist` chart**. You will see some shorter blue bars being filtered in the `CAUSE_DESCR_calls_df_dist`---this is the distribution of `CAUSE_DESCR` filtered by `CA`.\n",
    "\n",
    "You will also see cells created that are annotated with \"🔵\"---this serves as an executable log of the interactions. You can try executing a differnet value, e.g. change 'CA' to 'NY'. Or you can programmtically empty the selection using `m.sel([])`.\n",
    "\n",
    "You will also notice that the chart which you interacted with is highlighted in red---this serves as an additional visual cue of active selections."
   ]
  },
  {
   "cell_type": "markdown",
   "metadata": {},
   "source": [
    "Since the filtered values are a smaller portion of the chart, it might be hard to compare. **Please click on the ellipsis icon next to the chart name and then the \"show filtered data only\" icon**.  This will remove the paler blue bars in the background (fire counts across all states), and help you see better.  To close the dropdown menu, cick on the ellipsis button again."
   ]
  },
  {
   "cell_type": "markdown",
   "metadata": {},
   "source": [
    "We notice the interesting observation that California gets hit by Lightning a lot. To record this insight, **please click on the 📷 icon in the menu bar**. You will see a cell created with 🟠 emoji that contains both of the current charts, as well as the code that is used to derived the data on the charts, which may be helpful for reproduceability. <font color=\"gray\">(The snap-shotted charts are stored as SVG, a HTML image format.)</font>"
   ]
  },
  {
   "cell_type": "markdown",
   "metadata": {},
   "source": [
    "To manually record the top causes for california in text, we could run the following cell and copy the two columns out----`'Miscellaneous', 'Equipment Use'`. This might seem heavy handed for this example, but you may find it helpful for other scenarios."
   ]
  },
  {
   "cell_type": "code",
   "execution_count": 13,
   "metadata": {},
   "outputs": [
    {
     "data": {
      "text/plain": [
       "array(['Miscellaneous', 'Equipment Use'], dtype='<U17')"
      ]
     },
     "execution_count": 13,
     "metadata": {},
     "output_type": "execute_result"
    }
   ],
   "source": [
    "CAUSE_DESCR_fires_df_dist.get_filtered_data()\\\n",
    "                         .sort('count')\\\n",
    "                         .head(2)['CAUSE_DESCR']"
   ]
  },
  {
   "cell_type": "markdown",
   "metadata": {},
   "source": [
    "### <font color=\"0080FF\">Investigtion: Lightning and Land Area?</font>\n",
    "Now let's dig a little further and see what other states are affected by Lightning. **Please click on the Lightning bar**. Perhaps the count of lightning fires is mostly due to land area? From this [source](https://www.usgs.gov/special-topic/water-science-school/science/how-wet-your-state-water-area-each-state?qt-science_center_objects=0#qt-science_center_objects), we can get the the area of each state to compare with out data."
   ]
  },
  {
   "cell_type": "code",
   "execution_count": null,
   "metadata": {},
   "outputs": [],
   "source": [
    "# Load data\n",
    "land_size_df = m.from_file(\"./data/state_land_sizes.csv\")\n",
    "land_size_df.head(3)"
   ]
  },
  {
   "cell_type": "markdown",
   "metadata": {},
   "source": [
    "We can modify the dataframe so that the new df is consistent with the new data"
   ]
  },
  {
   "cell_type": "code",
   "execution_count": null,
   "metadata": {},
   "outputs": [],
   "source": [
    "state_dict = {\"Alabama\":\"AL\", \"Alaska\":\"AK\", \"Arizona\":\"AZ\", \"Arkansas\":\"AR\", \"California\":\"CA\", \"Colorado\":\"CO\", \"Connecticut\":\"CT\", \"Delaware\":\"DE\", \"Florida\":\"FL\", \"Georgia\":\"GA\", \"Hawaii\":\"HI\", \"Idaho\":\"ID\", \"Illinois\":\"IL\", \"Indiana\":\"IN\", \"Iowa\":\"IA\", \"Kansas\":\"KS\", \"Kentucky\":\"KY\", \"Louisiana\":\"LA\", \"Maine\":\"ME\", \"Maryland\":\"MD\", \"Massachusetts\":\"MA\", \"Michigan\":\"MI\", \"Minnesota\":\"MN\", \"Mississippi\":\"MS\", \"Missouri\":\"MO\", \"Montana\":\"MT\", \"Nebraska\":\"NE\", \"Nevada\":\"NV\", \"New Hampshire\":\"NH\", \"New Jersey\":\"NJ\", \"New Mexico\":\"NM\", \"New York\":\"NY\", \"North Carolina\":\"NC\", \"North Dakota\":\"ND\", \"Ohio\":\"OH\", \"Oklahoma\":\"OK\", \"Oregon\":\"OR\", \"Pennsylvania\":\"PA\", \"Rhode Island\":\"RI\", \"South Carolina\":\"SC\", \"South Dakota\":\"SD\", \"Tennessee\":\"TN\", \"Texas\":\"TX\", \"Utah\":\"UT\", \"Vermont\":\"VT\", \"Virginia\":\"VA\", \"Washington\":\"WA\", \"West Virginia\":\"WV\", \"Wisconsin\":\"WI\", \"Wyoming\":\"WY\", \"District of Columbia\": \"DC\"}\n",
    "land_size_df['STATE'] = land_size_df.apply(lambda x: state_dict[x], 'state_name')\n"
   ]
  },
  {
   "cell_type": "markdown",
   "metadata": {},
   "source": [
    "### <font color=\"0080FF\">Analyzing distribution of lightning across states</font>\n",
    "\n",
    "We can accessing the data programmatically---in the cell below, we can **use `get_filtered_data` to directly access the filtered result**. Tip: type, \"get_\" then press the \"Tab\" key for auto-complete!"
   ]
  },
  {
   "cell_type": "code",
   "execution_count": null,
   "metadata": {},
   "outputs": [],
   "source": [
    "# now let's get the the data filtered by lightning\n",
    "lightning_df = STATE_fires_df_dist.get_filtered_data()\n",
    "lightning_df"
   ]
  },
  {
   "cell_type": "code",
   "execution_count": null,
   "metadata": {},
   "outputs": [],
   "source": [
    "# now we are going to plot a scatter plot against the lightning counts and the land counts\n",
    "count_and_area_df = lightning_df.join('STATE', land_size_df.select(['STATE', 'area_sq_miles']), 'STATE')\n",
    "count_area_scatter = count_and_area_df.select(['count', 'area_sq_miles'])"
   ]
  },
  {
   "cell_type": "markdown",
   "metadata": {},
   "source": [
    "**You can also use `static_vis` to quickly look at one-off visualizations.** The static vis is generated right below the cell, and _not_ int he midas chart area---this is because they do not reactively update based on the interactions, and are one-off.\n",
    "\n",
    "<font color=\"gray\">If you don't see any output, try running `!jupyter nbextension install --sys-prefix --py vega` in the cell after.</font>"
   ]
  },
  {
   "cell_type": "code",
   "execution_count": null,
   "metadata": {},
   "outputs": [],
   "source": [
    "count_area_scatter.static_vis()"
   ]
  },
  {
   "cell_type": "code",
   "execution_count": null,
   "metadata": {},
   "outputs": [],
   "source": [
    "count_area_scatter.corr()"
   ]
  },
  {
   "cell_type": "markdown",
   "metadata": {},
   "source": [
    "**Perhaps we can get the land size as opposed to total size**"
   ]
  },
  {
   "cell_type": "code",
   "execution_count": null,
   "metadata": {},
   "outputs": [],
   "source": [
    "count_and_area_df = lightning_df.join('STATE', land_size_df.select(['STATE', 'land_sq_miles']), 'STATE')\n",
    "count_land_scatter = count_and_area_df.select(['count', 'land_sq_miles'])\n",
    "count_land_scatter.static_vis()"
   ]
  },
  {
   "cell_type": "markdown",
   "metadata": {},
   "source": [
    "Now we don't need to look at `land_size_df` anymore, **please click on the text in the yellow pane to hide the columns**."
   ]
  },
  {
   "cell_type": "markdown",
   "metadata": {},
   "source": [
    "### <font color=\"0080FF\">Exploratory Analysis: Distribution of discovery time</font>\n",
    "\n",
    "**Please go ahead and click on the `DISCOVERY_TIME` column.** For numeric values, the default is a brush (via dragging). If you want to make it click based, try running the following cell, with `selection_type=\"multiclick\"` passed in."
   ]
  },
  {
   "cell_type": "code",
   "execution_count": null,
   "metadata": {},
   "outputs": [],
   "source": [
    "DISCOVERY_TIME_fires_df_dist = fires_df.group('DISCOVERY_TIME_bin').vis(selection_type=\"multiclick\")"
   ]
  },
  {
   "cell_type": "markdown",
   "metadata": {},
   "source": [
    "### <font color=\"0080FF\">Exploratory Analysis: Distribution of fire size and discovery time</font>\n",
    "\n",
    "In the cell below, we can create our own **custom visualizations**, and then adding it to Midas interactions via `vis`."
   ]
  },
  {
   "cell_type": "code",
   "execution_count": null,
   "metadata": {},
   "outputs": [],
   "source": [
    "size_time_df = fires_df.select(['DISCOVERY_TIME', 'FIRE_SIZE'])\n",
    "size_time_df.vis()"
   ]
  },
  {
   "cell_type": "markdown",
   "metadata": {},
   "source": [
    "### <font color=\"0080FF\">Understanding Geo</font>\n",
    "\n",
    "To get a sense of where the fires are distributed, we can use external visualization tools, like `folium`."
   ]
  },
  {
   "cell_type": "code",
   "execution_count": null,
   "metadata": {
    "scrolled": true
   },
   "outputs": [],
   "source": [
    "import folium\n",
    "import folium.plugins\n",
    "\n",
    "CENTER_COORD = (39, -98) # center of US\n",
    "us_map = folium.Map(location=CENTER_COORD, zoom_start=2)\n",
    "locs = fires_df.select(['LATITUDE', 'LONGITUDE']).to_numpy()\n",
    "heatmap = folium.plugins.HeatMap(locs.tolist(), radius = 10)\n",
    "us_map.add_child(heatmap)"
   ]
  },
  {
   "cell_type": "markdown",
   "metadata": {},
   "source": [
    "We can use **reactive cells** to drive the filtering---first let's understand what reactive cells do with the following example.\n",
    "\n",
    "The API `m.immediate_value` shows the current filtered value, and the `%%reactive` cell magic makes the cell run everytime there is a UI based selection on the dataframe `CAUSE_DESCR_fires_df_dist`."
   ]
  },
  {
   "cell_type": "code",
   "execution_count": null,
   "metadata": {},
   "outputs": [],
   "source": [
    "%%reactive -df CAUSE_DESCR_fires_df_dist\n",
    "# note that the df name is NOT in quotes\n",
    "\n",
    "m.immediate_value"
   ]
  },
  {
   "cell_type": "markdown",
   "metadata": {},
   "source": [
    "Now we can take it to a more complex case---let's redraw the map as we select different different causes for the fire. By placing `m.immediate_value` into the predicate the filters the original DF, we are able now."
   ]
  },
  {
   "cell_type": "code",
   "execution_count": null,
   "metadata": {},
   "outputs": [],
   "source": [
    "%%reactive -df CAUSE_DESCR_fires_df_dist\n",
    "\n",
    "CENTER_COORD = (39, -98)\n",
    "us_map = folium.Map(location=CENTER_COORD, zoom_start=4)\n",
    "locs = fires_df.where('CAUSE_DESCR', m.are.contained_in(m.immediate_value)).select(['LATITUDE', 'LONGITUDE']).to_numpy()\n",
    "heatmap = folium.plugins.HeatMap(locs.tolist(), radius = 10)\n",
    "us_map.add_child(heatmap)"
   ]
  },
  {
   "cell_type": "markdown",
   "metadata": {},
   "source": [
    "### <font color=\"0080FF\">More fires data</font>\n",
    "\n",
    "After the initial analysis we now find another data source with the same schema but different data."
   ]
  },
  {
   "cell_type": "code",
   "execution_count": null,
   "metadata": {},
   "outputs": [],
   "source": [
    "later_fires_df = m.from_file(\"./data/fire_earlier.csv\")\n",
    "later_fires_df"
   ]
  },
  {
   "cell_type": "markdown",
   "metadata": {
    "midasFunType": "query"
   },
   "source": [
    "#### Reuse analsyis\n",
    "\n",
    "To reuse the visual analysis you have performed, you can look at the code/log generated by Midas, and you can also directly copy code used to derive certain charts you found interesting. You can click the ellipsis button and then click on the \"get code to clipboard button\" to reproduce your work. You should copying the code from the chart and modify it to apply to the new dataframe, it will look something like the below:\n",
    "```\n",
    "fires_df.where('STAT_CAUSE_DESCR', m.are.contained_in(superstring=['Debris Burning']), None)\\\n",
    "             .group('STATE', None)\\\n",
    "               .static_vis()\n",
    "```"
   ]
  },
  {
   "cell_type": "markdown",
   "metadata": {},
   "source": [
    "### <font color=\"0080FF\">Taking note of what you have looked at</font>\n",
    "\n",
    "Often in data analysis, it's important to understand what data you have looked at and what data you have not. The following function, `all_selections`,  returns all the interactions you have made. We have limited to the most recent 5, which you should feel free to change. An example observation based on the history is _\"I have looked at `Lightning` and `Debris Burning` in more detail; it might also be interesting to look at fire sizes next time\"_."
   ]
  },
  {
   "cell_type": "code",
   "execution_count": null,
   "metadata": {},
   "outputs": [],
   "source": [
    "m.all_selections[-5:]"
   ]
  }
 ],
 "metadata": {
  "kernelspec": {
   "display_name": "Python 3",
   "language": "python",
   "name": "python3"
  },
  "language_info": {
   "codemirror_mode": {
    "name": "ipython",
    "version": 3
   },
   "file_extension": ".py",
   "mimetype": "text/x-python",
   "name": "python",
   "nbconvert_exporter": "python",
   "pygments_lexer": "ipython3",
   "version": "3.7.4"
  }
 },
 "nbformat": 4,
 "nbformat_minor": 2
}
