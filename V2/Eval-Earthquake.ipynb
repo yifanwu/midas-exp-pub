{
 "cells": [
  {
   "cell_type": "markdown",
   "metadata": {},
   "source": [
    "# Evalation: Earthquake Dataset\n",
    "\n",
    "Note that you are expected to perform some data transformation"
   ]
  },
  {
   "cell_type": "code",
   "execution_count": 6,
   "metadata": {},
   "outputs": [
    {
     "data": {
      "text/html": [
       "<table border=\"1\" class=\"dataframe\">\n",
       "    <thead>\n",
       "        <tr>\n",
       "            <th>Date</th> <th>Time</th> <th>Latitude</th> <th>Longitude</th> <th>Type</th> <th>Depth</th> <th>Depth Error</th> <th>Depth Seismic Stations</th> <th>Magnitude</th> <th>Magnitude Type</th> <th>Magnitude Error</th> <th>Magnitude Seismic Stations</th> <th>Azimuthal Gap</th> <th>Horizontal Distance</th> <th>Horizontal Error</th> <th>Root Mean Square</th> <th>ID</th> <th>Source</th> <th>Location Source</th> <th>Magnitude Source</th> <th>Status</th>\n",
       "        </tr>\n",
       "    </thead>\n",
       "    <tbody>\n",
       "        <tr>\n",
       "            <td>01/02/1965</td> <td>13:44:18</td> <td>19.246  </td> <td>145.616  </td> <td>Earthquake</td> <td>131.6</td> <td>nan        </td> <td>nan                   </td> <td>6        </td> <td>MW            </td> <td>nan            </td> <td>nan                       </td> <td>nan          </td> <td>nan                </td> <td>nan             </td> <td>nan             </td> <td>ISCGEM860706   </td> <td>ISCGEM   </td> <td>ISCGEM         </td> <td>ISCGEM          </td> <td>Automatic</td>\n",
       "        </tr>\n",
       "        <tr>\n",
       "            <td>01/04/1965</td> <td>11:29:49</td> <td>1.863   </td> <td>127.352  </td> <td>Earthquake</td> <td>80   </td> <td>nan        </td> <td>nan                   </td> <td>5.8      </td> <td>MW            </td> <td>nan            </td> <td>nan                       </td> <td>nan          </td> <td>nan                </td> <td>nan             </td> <td>nan             </td> <td>ISCGEM860737   </td> <td>ISCGEM   </td> <td>ISCGEM         </td> <td>ISCGEM          </td> <td>Automatic</td>\n",
       "        </tr>\n",
       "        <tr>\n",
       "            <td>01/05/1965</td> <td>18:05:58</td> <td>-20.579 </td> <td>-173.972 </td> <td>Earthquake</td> <td>20   </td> <td>nan        </td> <td>nan                   </td> <td>6.2      </td> <td>MW            </td> <td>nan            </td> <td>nan                       </td> <td>nan          </td> <td>nan                </td> <td>nan             </td> <td>nan             </td> <td>ISCGEM860762   </td> <td>ISCGEM   </td> <td>ISCGEM         </td> <td>ISCGEM          </td> <td>Automatic</td>\n",
       "        </tr>\n",
       "        <tr>\n",
       "            <td>01/08/1965</td> <td>18:49:43</td> <td>-59.076 </td> <td>-23.557  </td> <td>Earthquake</td> <td>15   </td> <td>nan        </td> <td>nan                   </td> <td>5.8      </td> <td>MW            </td> <td>nan            </td> <td>nan                       </td> <td>nan          </td> <td>nan                </td> <td>nan             </td> <td>nan             </td> <td>ISCGEM860856   </td> <td>ISCGEM   </td> <td>ISCGEM         </td> <td>ISCGEM          </td> <td>Automatic</td>\n",
       "        </tr>\n",
       "        <tr>\n",
       "            <td>01/09/1965</td> <td>13:32:50</td> <td>11.938  </td> <td>126.427  </td> <td>Earthquake</td> <td>15   </td> <td>nan        </td> <td>nan                   </td> <td>5.8      </td> <td>MW            </td> <td>nan            </td> <td>nan                       </td> <td>nan          </td> <td>nan                </td> <td>nan             </td> <td>nan             </td> <td>ISCGEM860890   </td> <td>ISCGEM   </td> <td>ISCGEM         </td> <td>ISCGEM          </td> <td>Automatic</td>\n",
       "        </tr>\n",
       "        <tr>\n",
       "            <td>01/10/1965</td> <td>13:36:32</td> <td>-13.405 </td> <td>166.629  </td> <td>Earthquake</td> <td>35   </td> <td>nan        </td> <td>nan                   </td> <td>6.7      </td> <td>MW            </td> <td>nan            </td> <td>nan                       </td> <td>nan          </td> <td>nan                </td> <td>nan             </td> <td>nan             </td> <td>ISCGEM860922   </td> <td>ISCGEM   </td> <td>ISCGEM         </td> <td>ISCGEM          </td> <td>Automatic</td>\n",
       "        </tr>\n",
       "        <tr>\n",
       "            <td>01/12/1965</td> <td>13:32:25</td> <td>27.357  </td> <td>87.867   </td> <td>Earthquake</td> <td>20   </td> <td>nan        </td> <td>nan                   </td> <td>5.9      </td> <td>MW            </td> <td>nan            </td> <td>nan                       </td> <td>nan          </td> <td>nan                </td> <td>nan             </td> <td>nan             </td> <td>ISCGEM861007   </td> <td>ISCGEM   </td> <td>ISCGEM         </td> <td>ISCGEM          </td> <td>Automatic</td>\n",
       "        </tr>\n",
       "        <tr>\n",
       "            <td>01/15/1965</td> <td>23:17:42</td> <td>-13.309 </td> <td>166.212  </td> <td>Earthquake</td> <td>35   </td> <td>nan        </td> <td>nan                   </td> <td>6        </td> <td>MW            </td> <td>nan            </td> <td>nan                       </td> <td>nan          </td> <td>nan                </td> <td>nan             </td> <td>nan             </td> <td>ISCGEM861111   </td> <td>ISCGEM   </td> <td>ISCGEM         </td> <td>ISCGEM          </td> <td>Automatic</td>\n",
       "        </tr>\n",
       "        <tr>\n",
       "            <td>01/16/1965</td> <td>11:32:37</td> <td>-56.452 </td> <td>-27.043  </td> <td>Earthquake</td> <td>95   </td> <td>nan        </td> <td>nan                   </td> <td>6        </td> <td>MW            </td> <td>nan            </td> <td>nan                       </td> <td>nan          </td> <td>nan                </td> <td>nan             </td> <td>nan             </td> <td>ISCGEMSUP861125</td> <td>ISCGEMSUP</td> <td>ISCGEM         </td> <td>ISCGEM          </td> <td>Automatic</td>\n",
       "        </tr>\n",
       "        <tr>\n",
       "            <td>01/17/1965</td> <td>10:43:17</td> <td>-24.563 </td> <td>178.487  </td> <td>Earthquake</td> <td>565  </td> <td>nan        </td> <td>nan                   </td> <td>5.8      </td> <td>MW            </td> <td>nan            </td> <td>nan                       </td> <td>nan          </td> <td>nan                </td> <td>nan             </td> <td>nan             </td> <td>ISCGEM861148   </td> <td>ISCGEM   </td> <td>ISCGEM         </td> <td>ISCGEM          </td> <td>Automatic</td>\n",
       "        </tr>\n",
       "    </tbody>\n",
       "</table>\n",
       "<p>... (23402 rows omitted)</p>"
      ],
      "text/plain": [
       "Date       | Time     | Latitude | Longitude | Type       | Depth | Depth Error | Depth Seismic Stations | Magnitude | Magnitude Type | Magnitude Error | Magnitude Seismic Stations | Azimuthal Gap | Horizontal Distance | Horizontal Error | Root Mean Square | ID              | Source    | Location Source | Magnitude Source | Status\n",
       "01/02/1965 | 13:44:18 | 19.246   | 145.616   | Earthquake | 131.6 | nan         | nan                    | 6         | MW             | nan             | nan                        | nan           | nan                 | nan              | nan              | ISCGEM860706    | ISCGEM    | ISCGEM          | ISCGEM           | Automatic\n",
       "01/04/1965 | 11:29:49 | 1.863    | 127.352   | Earthquake | 80    | nan         | nan                    | 5.8       | MW             | nan             | nan                        | nan           | nan                 | nan              | nan              | ISCGEM860737    | ISCGEM    | ISCGEM          | ISCGEM           | Automatic\n",
       "01/05/1965 | 18:05:58 | -20.579  | -173.972  | Earthquake | 20    | nan         | nan                    | 6.2       | MW             | nan             | nan                        | nan           | nan                 | nan              | nan              | ISCGEM860762    | ISCGEM    | ISCGEM          | ISCGEM           | Automatic\n",
       "01/08/1965 | 18:49:43 | -59.076  | -23.557   | Earthquake | 15    | nan         | nan                    | 5.8       | MW             | nan             | nan                        | nan           | nan                 | nan              | nan              | ISCGEM860856    | ISCGEM    | ISCGEM          | ISCGEM           | Automatic\n",
       "01/09/1965 | 13:32:50 | 11.938   | 126.427   | Earthquake | 15    | nan         | nan                    | 5.8       | MW             | nan             | nan                        | nan           | nan                 | nan              | nan              | ISCGEM860890    | ISCGEM    | ISCGEM          | ISCGEM           | Automatic\n",
       "01/10/1965 | 13:36:32 | -13.405  | 166.629   | Earthquake | 35    | nan         | nan                    | 6.7       | MW             | nan             | nan                        | nan           | nan                 | nan              | nan              | ISCGEM860922    | ISCGEM    | ISCGEM          | ISCGEM           | Automatic\n",
       "01/12/1965 | 13:32:25 | 27.357   | 87.867    | Earthquake | 20    | nan         | nan                    | 5.9       | MW             | nan             | nan                        | nan           | nan                 | nan              | nan              | ISCGEM861007    | ISCGEM    | ISCGEM          | ISCGEM           | Automatic\n",
       "01/15/1965 | 23:17:42 | -13.309  | 166.212   | Earthquake | 35    | nan         | nan                    | 6         | MW             | nan             | nan                        | nan           | nan                 | nan              | nan              | ISCGEM861111    | ISCGEM    | ISCGEM          | ISCGEM           | Automatic\n",
       "01/16/1965 | 11:32:37 | -56.452  | -27.043   | Earthquake | 95    | nan         | nan                    | 6         | MW             | nan             | nan                        | nan           | nan                 | nan              | nan              | ISCGEMSUP861125 | ISCGEMSUP | ISCGEM          | ISCGEM           | Automatic\n",
       "01/17/1965 | 10:43:17 | -24.563  | 178.487   | Earthquake | 565   | nan         | nan                    | 5.8       | MW             | nan             | nan                        | nan           | nan                 | nan              | nan              | ISCGEM861148    | ISCGEM    | ISCGEM          | ISCGEM           | Automatic\n",
       "... (23402 rows omitted)"
      ]
     },
     "execution_count": 6,
     "metadata": {},
     "output_type": "execute_result"
    }
   ],
   "source": [
    "task_id = \"eval_earthquake\"\n",
    "# please fill out your participant id, e.g., \"pilot_2\" \n",
    "pid = \"test_1\"\n",
    "\n",
    "from midas import Midas\n",
    "\n",
    "m = Midas(pid, task_id)\n",
    "earthquake_df = m.from_file(\"./data/earthquake.csv\")\n",
    "earthquake_df"
   ]
  },
  {
   "cell_type": "code",
   "execution_count": 7,
   "metadata": {},
   "outputs": [
    {
     "name": "stdout",
     "output_type": "stream",
     "text": [
      "Collecting reverse_geocoder\n",
      "\u001b[?25l  Downloading https://files.pythonhosted.org/packages/0b/0f/b7d5d4b36553731f11983e19e1813a1059ad0732c5162c01b3220c927d31/reverse_geocoder-1.5.1.tar.gz (2.2MB)\n",
      "\u001b[K     |████████████████████████████████| 2.3MB 2.5MB/s eta 0:00:01\n",
      "\u001b[?25hRequirement already satisfied: numpy>=1.11.0 in /Users/yifanwu/anaconda3/lib/python3.7/site-packages (from reverse_geocoder) (1.17.2)\n",
      "Requirement already satisfied: scipy>=0.17.1 in /Users/yifanwu/anaconda3/lib/python3.7/site-packages (from reverse_geocoder) (1.3.1)\n",
      "Building wheels for collected packages: reverse-geocoder\n",
      "  Building wheel for reverse-geocoder (setup.py) ... \u001b[?25ldone\n",
      "\u001b[?25h  Created wheel for reverse-geocoder: filename=reverse_geocoder-1.5.1-cp37-none-any.whl size=2268090 sha256=c1962c71cffac0751c4a1c722df6f2d625cc5513c879ec4d5b5828a237bb5c58\n",
      "  Stored in directory: /Users/yifanwu/Library/Caches/pip/wheels/47/05/50/b1350ff094ef91e082665b4a2f9ca551f8acea4aa55d796b26\n",
      "Successfully built reverse-geocoder\n",
      "Installing collected packages: reverse-geocoder\n",
      "Successfully installed reverse-geocoder-1.5.1\n"
     ]
    }
   ],
   "source": [
    "# https://github.com/thampiman/reverse-geocoder\n",
    "!pip install reverse_geocoder"
   ]
  },
  {
   "cell_type": "code",
   "execution_count": 8,
   "metadata": {
    "midasFunType": "query"
   },
   "outputs": [],
   "source": [
    "# 🟡 03:54 PM 🟡\n",
    "earthquake_df['Latitude_bin'] = salary_df.apply(lambda x: 'null' if m.np.isnan(x) else int(x/10) * 10, 'Latitude')\n",
    "Latitude_distribution = earthquake_df.group('Latitude_bin').vis()"
   ]
  },
  {
   "cell_type": "code",
   "execution_count": 9,
   "metadata": {},
   "outputs": [
    {
     "data": {
      "text/plain": [
       "array(['13:44:18', '11:29:49', '18:05:58', ..., '12:38:51', '22:30:19',\n",
       "       '20:08:28'], dtype='<U24')"
      ]
     },
     "execution_count": 9,
     "metadata": {},
     "output_type": "execute_result"
    }
   ],
   "source": [
    "earthquake_df['Tibme']"
   ]
  },
  {
   "cell_type": "code",
   "execution_count": 10,
   "metadata": {
    "midasFunType": "query"
   },
   "outputs": [],
   "source": [
    "# 🟡 03:57 PM 🟡\n",
    "earthquake_df['Azimuthal Gap_bin'] = earthquake_df.apply(lambda x: 'null' if m.np.isnan(x) else int(x/20.0) * 20.0, 'Azimuthal Gap')\n",
    "Azimuthal_Gap_distribution = earthquake_df.group('Azimuthal Gap_bin').vis()"
   ]
  },
  {
   "cell_type": "code",
   "execution_count": 11,
   "metadata": {
    "midasFunType": "query"
   },
   "outputs": [],
   "source": [
    "# 🟡 03:57 PM 🟡\n",
    "earthquake_df['Horizontal Distance_bin'] = earthquake_df.apply(lambda x: 'null' if m.np.isnan(x) else int(x/2) * 2, 'Horizontal Distance')\n",
    "Horizontal_Distance_distribution = earthquake_df.group('Horizontal Distance_bin').vis()"
   ]
  },
  {
   "cell_type": "code",
   "execution_count": 12,
   "metadata": {
    "midasFunType": "query"
   },
   "outputs": [],
   "source": [
    "# 🟡 03:58 PM 🟡\n",
    "Magnitude_Type_distribution = earthquake_df.group('Magnitude Type').vis()"
   ]
  },
  {
   "cell_type": "code",
   "execution_count": 14,
   "metadata": {
    "midasFunType": "query"
   },
   "outputs": [],
   "source": [
    "# 🟡 03:58 PM 🟡\n",
    "earthquake_df['Magnitude Error_bin'] = earthquake_df.apply(lambda x: 'null' if m.np.isnan(x) else round(int(x/0.5) * 0.5, 2), 'Magnitude Error')\n",
    "Magnitude_Error_distribution = earthquake_df.group('Magnitude Error_bin').vis()"
   ]
  },
  {
   "cell_type": "code",
   "execution_count": 15,
   "metadata": {
    "midasFunType": "query"
   },
   "outputs": [],
   "source": [
    "# 🟡 03:58 PM 🟡\n",
    "Type_distribution = earthquake_df.group('Type').vis()"
   ]
  },
  {
   "cell_type": "code",
   "execution_count": 16,
   "metadata": {
    "midasFunType": "query"
   },
   "outputs": [],
   "source": [
    "# 🟡 03:59 PM 🟡\n",
    "Magnitude_distribution = earthquake_df.group('Magnitude').vis()"
   ]
  },
  {
   "cell_type": "code",
   "execution_count": 17,
   "metadata": {
    "midasFunType": "query"
   },
   "outputs": [],
   "source": [
    "# 🟡 04:00 PM 🟡\n",
    "Location_Source_distribution = earthquake_df.group('Location Source').vis()"
   ]
  },
  {
   "cell_type": "code",
   "execution_count": 18,
   "metadata": {
    "midasFunType": "query"
   },
   "outputs": [],
   "source": [
    "# 🟡 04:01 PM 🟡\n",
    "Status_distribution = earthquake_df.group('Status').vis()"
   ]
  },
  {
   "cell_type": "markdown",
   "metadata": {},
   "source": [
    "## Tasks\n",
    "\n",
    "* Please make qualitative observations about how the earthquake distributes through the time of the day.\n",
    "* Please get a sense of earthquake count by **country**\n",
    "* Please get a sense of earthquake magnitude for countries of your interest."
   ]
  },
  {
   "cell_type": "code",
   "execution_count": null,
   "metadata": {},
   "outputs": [],
   "source": []
  }
 ],
 "metadata": {
  "kernelspec": {
   "display_name": "Python 3",
   "language": "python",
   "name": "python3"
  },
  "language_info": {
   "codemirror_mode": {
    "name": "ipython",
    "version": 3
   },
   "file_extension": ".py",
   "mimetype": "text/x-python",
   "name": "python",
   "nbconvert_exporter": "python",
   "pygments_lexer": "ipython3",
   "version": "3.7.4"
  }
 },
 "nbformat": 4,
 "nbformat_minor": 2
}
