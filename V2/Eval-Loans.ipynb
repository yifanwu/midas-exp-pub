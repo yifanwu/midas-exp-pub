{
 "cells": [
  {
   "cell_type": "markdown",
   "metadata": {},
   "source": [
    "# Evaluation: Basic Modeling\n",
    "\n",
    "In this task, we ask you to do do basic model building. We took the dataset from a competition on [Kaggle](https://www.kaggle.com/c/home-credit-default-risk/overview).\n",
    "\n",
    "_Home Credit strives to broaden financial inclusion for the unbanked population by providing a positive and safe borrowing experience. In order to make sure this underserved population has a positive loan experience, Home Credit makes use of a variety of alternative data--including telco and transactional information--to predict their clients' repayment abilities._"
   ]
  },
  {
   "cell_type": "markdown",
   "metadata": {},
   "source": [
    "## Download Data\n",
    "\n",
    "The following two cells downloads the data to your `./data` directory."
   ]
  },
  {
   "cell_type": "code",
   "execution_count": null,
   "metadata": {},
   "outputs": [],
   "source": [
    "# this dataset is about 160 MB\n",
    "!curl -L -o ./data/application_train.csv https://www.dropbox.com/s/y9k7cwvpmokua0f/application_train.csv?dl=0"
   ]
  },
  {
   "cell_type": "code",
   "execution_count": 2,
   "metadata": {},
   "outputs": [
    {
     "name": "stdout",
     "output_type": "stream",
     "text": [
      "  % Total    % Received % Xferd  Average Speed   Time    Time     Time  Current\n",
      "                                 Dload  Upload   Total   Spent    Left  Speed\n",
      "  0     0    0     0    0     0      0      0 --:--:-- --:--:-- --:--:--     0\n",
      "  0     0    0     0    0     0      0      0 --:--:-- --:--:-- --:--:--     0\n",
      "  0  162M    0  526k    0     0   136k      0  0:20:12  0:00:03  0:20:09  168k^C\n"
     ]
    }
   ],
   "source": [
    "# this dataset is about 170 MB\n",
    "!curl -L -o ./data/bureau.csv https://www.dropbox.com/s/bdrzlo9dp3yrk53/bureau.csv?dl=0"
   ]
  },
  {
   "cell_type": "code",
   "execution_count": 3,
   "metadata": {},
   "outputs": [
    {
     "name": "stdout",
     "output_type": "stream",
     "text": [
      "  % Total    % Received % Xferd  Average Speed   Time    Time     Time  Current\n",
      "                                 Dload  Upload   Total   Spent    Left  Speed\n",
      "  0     0    0     0    0     0      0      0 --:--:-- --:--:-- --:--:--     0\n",
      "  0     0    0     0    0     0      0      0 --:--:-- --:--:-- --:--:--     0\n",
      " 37 25.3M   37 9790k    0     0  5118k      0  0:00:05  0:00:01  0:00:04 9715k^C\n"
     ]
    }
   ],
   "source": [
    "# this dataset is about 23 MB, used for evaluation\n",
    "!curl -L -o ./data/application_test.csv https://www.dropbox.com/s/rp85beqodnstg2s/application_test.csv\\?dl\\=0"
   ]
  },
  {
   "cell_type": "code",
   "execution_count": null,
   "metadata": {},
   "outputs": [],
   "source": [
    "task_id = \"eval_loans\"\n",
    "# please fill out your participand id, e.g., \"experiment_6\" \n",
    "pid = ...\n",
    "\n",
    "from midas import Midas\n",
    "m = Midas(pid, task_id)\n",
    "\n",
    "train_df = m.from_file(\"./data/application_train.csv\")\n",
    "train_df"
   ]
  },
  {
   "cell_type": "markdown",
   "metadata": {},
   "source": [
    "### Data: application\n",
    "\n",
    "Below is what we know about the data.  Note that the original Kaggle document did not provide much information either, and you maybe just have to infer from context, or work with the unknown.\n",
    "\n",
    "* `TARGET` is the field you will be ask to predict, given the other columsn.\n",
    "* For having a 1 for `TARGET` means he/she had late payment more than X days on at least one of the first Y installments of the loan in our sample.\n",
    "* All the time fields are only relative to the application---`DAYS_BIRTH`, `DAYS_EMPLOYED`, `DAYS_REGISTRATION`, and `DAYS_ID_PUBLIS`.\n",
    "* The housing information should be self-explanatory."
   ]
  },
  {
   "cell_type": "markdown",
   "metadata": {},
   "source": [
    "Header | Description | Special\n",
    "---|--------- | -----------\n",
    "SK_ID_CURR | ID of loan in our sample |\n",
    "TARGET | 1: payment difficulties, 0: other |\n",
    "NAME_CONTRACT_TYPE | Identification if loan is cash or revolving |\n",
    "CODE_GENDER | Gender of the client |\n",
    "FLAG_OWN_CAR | Flag if the client owns a car |\n",
    "FLAG_OWN_REALTY | Flag if client owns a house or flat |\n",
    "CNT_CHILDREN | Number of children the client has |\n",
    "AMT_INCOME_TOTAL | Income of the client |\n",
    "AMT_CREDIT | Credit amount of the loan |\n",
    "AMT_ANNUITY | Loan annuity |\n",
    "AMT_GOODS_PRICE | For consumer loans it is the price of the goods for which the loan is given |\n",
    "NAME_TYPE_SUITE | Who was accompanying client when he was applying for the loan |\n",
    "NAME_INCOME_TYPE | \"Clients income type (businessman, working, maternity leave,…)\" |\n",
    "NAME_EDUCATION_TYPE | Level of highest education the client achieved |\n",
    "NAME_FAMILY_STATUS | Family status of the client |\n",
    "NAME_HOUSING_TYPE | \"What is the housing situation of the client (renting, living with parents, ...)\" |\n",
    "REGION_POPULATION_RELATIVE | Normalized population of region where client lives (higher number means the client lives in more populated region) | normalized \n",
    "DAYS_BIRTH | Client's age in days at the time of application\n",
    "DAYS_EMPLOYED | How many days before the application the person started current employment\n",
    "DAYS_REGISTRATION | How many days before the application did client change his registration\n",
    "DAYS_ID_PUBLISH | How many days before the application did client change the identity document with which he applied for the loan\n",
    "OWN_CAR_AGE | Age of client's car |\n",
    "FLAG_MOBIL | \"Did client provide mobile phone (1=YES, 0=NO)\" |\n",
    "FLAG_EMP_PHONE | \"Did client provide work phone (1=YES, 0=NO)\" |\n",
    "FLAG_WORK_PHONE | \"Did client provide home phone (1=YES, 0=NO)\" |\n",
    "FLAG_CONT_MOBILE | \"Was mobile phone reachable (1=YES, 0=NO)\" |\n",
    "FLAG_PHONE | \"Did client provide home phone (1=YES, 0=NO)\" |\n",
    "FLAG_EMAIL | \"Did client provide email (1=YES, 0=NO)\" |\n",
    "OCCUPATION_TYPE | What kind of occupation does the client have |\n",
    "CNT_FAM_MEMBERS | How many family members does client have |\n",
    "REGION_RATING_CLIENT | \"Our rating of the region where client lives (1,2,3)\" |\n",
    "REGION_RATING_CLIENT_W_CITY | \"Our rating of the region where client lives with taking city into account (1,2,3)\" |\n",
    "WEEKDAY_APPR_PROCESS_START | On which day of the week did the client apply for the loan |\n",
    "HOUR_APPR_PROCESS_START | Approximately at what hour did the client apply for the loan | rounded\n",
    "REG_REGION_NOT_LIVE_REGION | \"Flag if client's permanent address does not match contact address (1=different, 0=same, at region level)\" |\n",
    "REG_REGION_NOT_WORK_REGION | \"Flag if client's permanent address does not match work address (1=different, 0=same, at region level)\" |\n",
    "LIVE_REGION_NOT_WORK_REGION | \"Flag if client's contact address does not match work address (1=different, 0=same, at region level)\" |\n",
    "REG_CITY_NOT_LIVE_CITY | \"Flag if client's permanent address does not match contact address (1=different, 0=same, at city level)\" |\n",
    "REG_CITY_NOT_WORK_CITY | \"Flag if client's permanent address does not match work address (1=different, 0=same, at city level)\" |\n",
    "LIVE_CITY_NOT_WORK_CITY | \"Flag if client's contact address does not match work address (1=different, 0=same, at city level)\" |\n",
    "ORGANIZATION_TYPE | Type of organization where client works |\n",
    "EXT_SOURCE_1 | Normalized score from external data source | normalized\n",
    "EXT_SOURCE_2 | Normalized score from external data source | normalized\n",
    "EXT_SOURCE_3 | Normalized score from external data source | normalized\n",
    "APARTMENTS_AVG | housing information | normalized\n",
    "BASEMENTAREA_AVG | housing information | normalized\n",
    "YEARS_BEGINEXPLUATATION_AVG | housing information | normalized\n",
    "YEARS_BUILD_AVG | housing information | normalized\n",
    "COMMONAREA_AVG | housing information | normalized\n",
    "ELEVATORS_AVG | housing information | normalized\n",
    "ENTRANCES_AVG | housing information | normalized\n",
    "FLOORSMAX_AVG | housing information | normalized\n",
    "FLOORSMIN_AVG | housing information | normalized\n",
    "LANDAREA_AVG | housing information | normalized\n",
    "LIVINGAPARTMENTS_AVG | housing information | normalized\n",
    "LIVINGAREA_AVG | housing information | normalized\n",
    "NONLIVINGAPARTMENTS_AVG | housing information | normalized\n",
    "NONLIVINGAREA_AVG | housing information | normalized\n",
    "APARTMENTS_MODE | housing information | normalized\n",
    "BASEMENTAREA_MODE | housing information | normalized\n",
    "YEARS_BEGINEXPLUATATION_MODE | housing information | normalized\n",
    "YEARS_BUILD_MODE | housing information | normalized\n",
    "COMMONAREA_MODE | housing information | normalized\n",
    "ELEVATORS_MODE | housing information | normalized\n",
    "ENTRANCES_MODE | housing information | normalized\n",
    "FLOORSMAX_MODE | housing information | normalized\n",
    "FLOORSMIN_MODE | housing information | normalized\n",
    "LANDAREA_MODE | housing information | normalized\n",
    "LIVINGAPARTMENTS_MODE | housing information | normalized\n",
    "LIVINGAREA_MODE | housing information | normalized\n",
    "NONLIVINGAPARTMENTS_MODE | housing information | normalized\n",
    "NONLIVINGAREA_MODE | housing information | normalized\n",
    "APARTMENTS_MEDI | housing information | normalized\n",
    "BASEMENTAREA_MEDI | housing information | normalized\n",
    "YEARS_BEGINEXPLUATATION_MEDI | housing information | normalized\n",
    "YEARS_BUILD_MEDI | housing information | normalized\n",
    "COMMONAREA_MEDI | housing information | normalized\n",
    "ELEVATORS_MEDI | housing information | normalized\n",
    "ENTRANCES_MEDI | housing information | normalized\n",
    "FLOORSMAX_MEDI | housing information | normalized\n",
    "FLOORSMIN_MEDI | housing information | normalized\n",
    "LANDAREA_MEDI | housing information | normalized\n",
    "LIVINGAPARTMENTS_MEDI | housing information | normalized\n",
    "LIVINGAREA_MEDI | housing information | normalized\n",
    "NONLIVINGAPARTMENTS_MEDI | housing information | normalized\n",
    "NONLIVINGAREA_MEDI | housing information | normalized\n",
    "FONDKAPREMONT_MODE | housing information | normalized\n",
    "HOUSETYPE_MODE | housing information | normalized\n",
    "TOTALAREA_MODE | housing information | normalized\n",
    "WALLSMATERIAL_MODE | housing information | normalized\n",
    "EMERGENCYSTATE_MODE | housing information | normalized\n",
    "OBS_30_CNT_SOCIAL_CIRCLE | How many observation of client's social surroundings with observable 30 DPD (days past due) default |\n",
    "DEF_30_CNT_SOCIAL_CIRCLE | How many observation of client's social surroundings defaulted on 30 DPD (days past due)  |\n",
    "OBS_60_CNT_SOCIAL_CIRCLE | How many observation of client's social surroundings with observable 60 DPD (days past due) default |\n",
    "DEF_60_CNT_SOCIAL_CIRCLE | How many observation of client's social surroundings defaulted on 60 (days past due) DPD |\n",
    "DAYS_LAST_PHONE_CHANGE | How many days before application did client change phone |\n",
    "FLAG_DOCUMENT_2 | Did client provide document 2 |\n",
    "FLAG_DOCUMENT_3 | Did client provide document 3 |\n",
    "FLAG_DOCUMENT_4 | Did client provide document 4 |\n",
    "FLAG_DOCUMENT_5 | Did client provide document 5 |\n",
    "FLAG_DOCUMENT_6 | Did client provide document 6 |\n",
    "FLAG_DOCUMENT_7 | Did client provide document 7 |\n",
    "FLAG_DOCUMENT_8 | Did client provide document 8 |\n",
    "FLAG_DOCUMENT_9 | Did client provide document 9 |\n",
    "FLAG_DOCUMENT_10 | Did client provide document 10 |\n",
    "FLAG_DOCUMENT_11 | Did client provide document 11 |\n",
    "FLAG_DOCUMENT_12 | Did client provide document 12 |\n",
    "FLAG_DOCUMENT_13 | Did client provide document 13 |\n",
    "FLAG_DOCUMENT_14 | Did client provide document 14 |\n",
    "FLAG_DOCUMENT_15 | Did client provide document 15 |\n",
    "FLAG_DOCUMENT_16 | Did client provide document 16 |\n",
    "FLAG_DOCUMENT_17 | Did client provide document 17 |\n",
    "FLAG_DOCUMENT_18 | Did client provide document 18 |\n",
    "FLAG_DOCUMENT_19 | Did client provide document 19 |\n",
    "FLAG_DOCUMENT_20 | Did client provide document 20 |\n",
    "FLAG_DOCUMENT_21 | Did client provide document 21 |\n",
    "AMT_REQ_CREDIT_BUREAU_HOUR | Number of enquiries to Credit Bureau about the client one hour before application |\n",
    "AMT_REQ_CREDIT_BUREAU_DAY | Number of enquiries to Credit Bureau about the client one day before application (excluding one hour before application) |\n",
    "AMT_REQ_CREDIT_BUREAU_WEEK | Number of enquiries to Credit Bureau about the client one week before application (excluding one day before application) |\n",
    "AMT_REQ_CREDIT_BUREAU_MON | Number of enquiries to Credit Bureau about the client one month before application (excluding one week before application) |\n",
    "AMT_REQ_CREDIT_BUREAU_QRT | Number of enquiries to Credit Bureau about the client 3 month before application (excluding one month before application) |\n",
    "AMT_REQ_CREDIT_BUREAU_YEAR | Number of enquiries to Credit Bureau about the client one day year (excluding last 3 months before application) |"
   ]
  },
  {
   "cell_type": "markdown",
   "metadata": {},
   "source": [
    "### Data: beauro\n",
    "\n",
    "All client's previous credits provided by other financial institutions that were reported to Credit Bureau (for clients who have a loan in our sample). For every loan in our sample, there are as many rows as number of credits the client had in Credit Bureau before the application date.\n",
    "\n",
    "Can be joined to the previous dataset via `SK_ID_CURR`.\n",
    "\n",
    "<font color=\"gray\">The original Kaggle contest was not as fully documented, so this is all we know.</font>"
   ]
  },
  {
   "cell_type": "markdown",
   "metadata": {},
   "source": [
    "## Task One: Exploratory Data Analysis (5 minutes)\n",
    "\n",
    "Please get a basic sense of the data and write down any relevant insights. <font color=\"gray\">E.g., only X percent of the applicants are women, or most of the purpose of the loan is for Y.</font>\n",
    "\n",
    "Please treat this document as a resource to be shared with your (imaginary) team.  You can use either comments or mardown cells to report your insights."
   ]
  },
  {
   "cell_type": "markdown",
   "metadata": {},
   "source": [
    "## Relevant Midas Techniques\n",
    "\n",
    "* **Sampling for faster interactions**: The original data may be too large to be analyzed interactive---you may see a large delay. However, you can sample a subset of data to do interactive analysis first---`sample_df = train_df.sample(k=500)`, and then verify your results on the full dataset with static visualizations. You can record the query used by copy-ing out from the cell dropdown (📋), or directly snapping the visualization (📷), which will contain the code to derive the data in the comment.\n",
    "* **Data cleaning** by modifying or adding new processed columns. <font color=\"gray\">For instance, you might want to create a new columsn `YEARS_BIRTH` from the `DAYS_BIRTH` to get a more readable age distribution, e.g., `sample_df['YEARS_BIRTH'] = m.np.round(sample_df['DAYS_BIRTH'] / 365)`</font>\n",
    "* **Logging your insights**: often the EDA results will infr"
   ]
  },
  {
   "cell_type": "code",
   "execution_count": null,
   "metadata": {},
   "outputs": [],
   "source": []
  },
  {
   "cell_type": "markdown",
   "metadata": {},
   "source": [
    "## Task Two: Build a Basic Model (35 minutes)\n",
    "\n",
    "Try to help _Home Credit_ with their prediction task! We ask you to try to come up with an explanable model based on the exploration you just performed. Please try to limit your features in your final model. If you might have any intuitions about why a model is not working, please also record that.\n",
    "\n",
    "* Feel free to use `sklearn` or whatever library that you are comfortable with E.g., `from sklearn.linear_model import LogisticRegression`\n",
    "* Feel free to use Pandas dataframe to pass into the libary, simply do `train_df.to_df()`, but we ask you to do the manipulation in our dataframe language"
   ]
  },
  {
   "cell_type": "code",
   "execution_count": null,
   "metadata": {},
   "outputs": [],
   "source": []
  }
 ],
 "metadata": {
  "kernelspec": {
   "display_name": "Python 3",
   "language": "python",
   "name": "python3"
  },
  "language_info": {
   "codemirror_mode": {
    "name": "ipython",
    "version": 3
   },
   "file_extension": ".py",
   "mimetype": "text/x-python",
   "name": "python",
   "nbconvert_exporter": "python",
   "pygments_lexer": "ipython3",
   "version": "3.7.4"
  }
 },
 "nbformat": 4,
 "nbformat_minor": 2
}
