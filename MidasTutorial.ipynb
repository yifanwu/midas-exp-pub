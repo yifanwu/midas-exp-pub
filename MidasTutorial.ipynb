{
 "cells": [
  {
   "cell_type": "markdown",
   "metadata": {},
   "source": [
    "# Midas Tutorial\n",
    "\n",
    "Hello! Please follow the tutorial to learn the basics of Midas. Be sure to play around until you are comfortable. You will have about 20 minutes. Should you have any questions, please feel free to ask Yifan, who will be present during the entire session.\n",
    "\n",
    "Midas is a Jupyter notebook library/extension that aids data exploration by providing relevant static  visualizations. The key of Midas is that **the operations you perform in the interactive visualization space is also reflected in code space**---you will see what this means if you run the code cells below!"
   ]
  },
  {
   "cell_type": "markdown",
   "metadata": {},
   "source": [
    "### TODO: <font color=\"green\">run the cell below</font>"
   ]
  },
  {
   "cell_type": "code",
   "execution_count": null,
   "metadata": {},
   "outputs": [],
   "source": [
    "from midas import Midas\n",
    "import numpy as np\n",
    "\n",
    "m = Midas()"
   ]
  },
  {
   "cell_type": "markdown",
   "metadata": {},
   "source": [
    "## Initiate Midas\n",
    "\n",
    "Import the the Midas class from library `midas`. When you create an instance of `Midas`, you see that a dashboard-like area pops up to the right, composed of **two pannels**, one that will be populated with visualizations of dataframes you create, and one for the \"original\" dataframes.\n",
    "\n",
    "**Adjusting the pannels**\n",
    "\n",
    "- Drag the left edge of the pannel to change the size.\n",
    "- Click the \"toggle midas\" and \"toggle column shelf\" to hide/show the shelves.\n",
    "\n",
    "<font color='gray'>Note that Per a single notebook, you can only have one Midas instance.</font> "
   ]
  },
  {
   "cell_type": "markdown",
   "metadata": {},
   "source": [
    "## Load data\n",
    "Midas takes in data from a few APIs, such as `from_file`, used below, which loads from pandas dataframe.\n",
    "Note that you can also use"
   ]
  },
  {
   "cell_type": "code",
   "execution_count": null,
   "metadata": {},
   "outputs": [],
   "source": [
    "fires_df = m.from_file(\"./data/fires.csv\")\n",
    "fires_df"
   ]
  },
  {
   "cell_type": "markdown",
   "metadata": {},
   "source": [
    "## Querying data\n",
    "\n",
    "Midas supports dataframes with syntax using that of the [data science module](http://data8.org/datascience/), which we talked about earlier."
   ]
  },
  {
   "cell_type": "code",
   "execution_count": null,
   "metadata": {},
   "outputs": [],
   "source": [
    "# You might be more used to seeing the syntax df['FIRE_SIZE'] > 100\n",
    "# Our syntax requires that you explicitly call the function.\n",
    "big_fires = fires_df.where('FIRE_SIZE', m.are.above(100))\n",
    "big_fires"
   ]
  },
  {
   "cell_type": "code",
   "execution_count": null,
   "metadata": {},
   "outputs": [],
   "source": []
  },
  {
   "cell_type": "markdown",
   "metadata": {},
   "source": [
    "## Seeing data\n",
    "\n",
    "Midas attempts to visualize the dataframe for you directly---to do this, just call the `.vis()` function.\n",
    "\n",
    "Sometimes, you may want to change the kind of chart, which is also very easy to do in Midas. If you want to change the chart types from bar to scatter, or to line etc., just specify `mark` (`\"bar\"`, `\"line\"`, or `\"circle\"`).\n",
    "\n",
    "If you click on the circular ellipses to the right, you will find a few helpful buttons\n",
    "- ⬅️➡️ move the charts around\n",
    "- 📷 take a snapshot of the current image\n",
    "- 📊 let's you navigate back to the cell for which the chart is defined\n",
    "- ➖ minimizes the chart\n",
    "- ❌ deletes the chart"
   ]
  },
  {
   "cell_type": "code",
   "execution_count": null,
   "metadata": {},
   "outputs": [],
   "source": [
    "STATE_distribution = fires_df.group('STATE')\n",
    "STATE_distribution"
   ]
  },
  {
   "cell_type": "code",
   "execution_count": null,
   "metadata": {},
   "outputs": [],
   "source": [
    "STATE_distribution.vis()"
   ]
  },
  {
   "cell_type": "code",
   "execution_count": null,
   "metadata": {},
   "outputs": [],
   "source": [
    "# you can use your own aggregators\n",
    "average_fire_size = fires_df.select(['STATE', 'FIRE_SIZE']).group('STATE', np.average)"
   ]
  },
  {
   "cell_type": "code",
   "execution_count": null,
   "metadata": {},
   "outputs": [],
   "source": [
    "average_fire_size.vis()"
   ]
  },
  {
   "cell_type": "code",
   "execution_count": null,
   "metadata": {},
   "outputs": [],
   "source": [
    "# you can also use the vis to change the encoding, when it makes sense\n",
    "# when in doubt, try \"?\"\n",
    "average_fire_size.vis?"
   ]
  },
  {
   "cell_type": "code",
   "execution_count": null,
   "metadata": {},
   "outputs": [],
   "source": [
    "average_fire_size.vis(mark=\"circle\")"
   ]
  },
  {
   "cell_type": "markdown",
   "metadata": {},
   "source": [
    "## Seeing distributions automatically\n",
    "\n",
    "When you click on a column in the columns pane, go ahead and click on the \"STATE\" column. After you click, two effects take place:\n",
    "1. a cell will be created that contains dataframe calls that derives the new filtered values, as well as the visualization calls. You will see that they have color emoji such as 🟠, these are indicators for you to better visually navigate.\n",
    "2. a chart is created that visualizes the data created in the pane on the right hand side\n",
    "\n",
    "If the chart is the wrong encoding, or if the grouping query is inaccurate, fell free to modify the queries---the results will be reflected in the chart automatically."
   ]
  },
  {
   "cell_type": "markdown",
   "metadata": {},
   "source": [
    "### <font color=\"green\">TASK: click on the \"CAUSE_DESCR\" column</font>"
   ]
  },
  {
   "cell_type": "markdown",
   "metadata": {},
   "source": [
    "**Seeing Errors**: Sometimes, we cannot visualize the data, . Here are some common cases:\n",
    "\n",
    "- When there are too many unique values and we do not know the grouping logic. For instance, in this dataset, we have `COUNTY`, and there are are too many unique values---no cells will be given.\n",
    "- When a numeric field has `NaN`s. We will generate the stub code that you can modify to fix the query."
   ]
  },
  {
   "cell_type": "markdown",
   "metadata": {},
   "source": [
    "### <font color=\"green\">TASK: click on the \"COUNTY\" column</font>\n",
    "Here you will see an error pop up, this is because there are too many COUNTY values to visualize."
   ]
  },
  {
   "cell_type": "markdown",
   "metadata": {},
   "source": [
    "## Making selections\n",
    "\n",
    "All the existing visualizations are equipped with the ability to **select**.\n",
    "\n",
    "* With scatter plots and line charts, you can **brush** select on both the x and y axis---to brush, you must enter **shift** while performing the drag (this is because dragging without the shift key results in moving the chart around).\n",
    "* With bar charts, you can **click** on the bars, and **shift-clikc** to add more.\n",
    "\n",
    "When you perform a selection, you will observe two effects\n",
    "1. a cell will be generated with the selections you have made, signaled by the emoji 🔵 in the comment, along with the time the interaction was performed.\n",
    "2. the other visualizations will be _automatically_ filtered by the selection---this is known as a \"cross-filter\" interaction technique.\n",
    "\n",
    "The original data might be useful to provide a stable point of reference. However, if you do _not_ wish to see the original data in the background (in a dimmer blue color), just click on the emoji 📌 to \"unpin\" the original data, and then click 📍 to pin the original data back. As an example, when you visualize the `average` or `median`, you might want to remove the orignal data, since the values maybe have increased (as opposed to being smaller).\n",
    "\n",
    "Note that **selections persist across interations on different charts** unless you\n",
    "* **explicitly de-select by clicking on any region of the bar with whitespace**\n",
    "* remove the chart where the selection is made from\n"
   ]
  },
  {
   "cell_type": "code",
   "execution_count": null,
   "metadata": {},
   "outputs": [],
   "source": [
    "m.sel([{\"STATE_distribution\": {\"STATE\": [\"CA\"]}}])"
   ]
  },
  {
   "cell_type": "code",
   "execution_count": null,
   "metadata": {},
   "outputs": [],
   "source": [
    "# reset selections\n",
    "m.sel([])"
   ]
  },
  {
   "cell_type": "code",
   "execution_count": null,
   "metadata": {},
   "outputs": [],
   "source": [
    "m.current_selection"
   ]
  },
  {
   "cell_type": "markdown",
   "metadata": {},
   "source": [
    "## Recording Views/Selections\n",
    "\n"
   ]
  },
  {
   "cell_type": "markdown",
   "metadata": {},
   "source": [
    "## Accessing selections programmatically\n",
    "\n",
    "Access selection in **predicate** form from the Midas runtime variable, `m` (you can assign it other names if you wish).\n",
    "\n",
    "- the interaction you just had: `m.immediate_selection`\n",
    "- most recent _overall_ selection: `m.current_selection` --- this is different from before because you can continue building your selections\n",
    "- all selections made in the past: `m.all_selections`\n",
    "\n",
    "Access selection results in **data** form: call `<df>.get_filtered_data` to access the underling values. \n",
    "\n",
    "Access your work in **code** form: go to the menu to the top right of the chart and select the 📋, which copies the code to the clip-board"
   ]
  },
  {
   "cell_type": "code",
   "execution_count": null,
   "metadata": {},
   "outputs": [],
   "source": [
    "m.immediate_selection"
   ]
  },
  {
   "cell_type": "code",
   "execution_count": null,
   "metadata": {},
   "outputs": [],
   "source": [
    "# this is a shorthand to just access the value\n",
    "m.immediate_value"
   ]
  },
  {
   "cell_type": "code",
   "execution_count": null,
   "metadata": {},
   "outputs": [],
   "source": [
    "m.current_selection"
   ]
  },
  {
   "cell_type": "code",
   "execution_count": null,
   "metadata": {},
   "outputs": [],
   "source": [
    "m.all_selections"
   ]
  },
  {
   "cell_type": "code",
   "execution_count": null,
   "metadata": {},
   "outputs": [],
   "source": [
    "# if you currently have a filter that applied to STATE_distribution\n",
    "# you can get the data via the API `get_filtered_data`\n",
    "STATE_distribution.get_filtered_data()"
   ]
  },
  {
   "cell_type": "markdown",
   "metadata": {},
   "source": [
    "## Reactive cells and custom visualizations\n",
    "\n",
    "A reactive cell means that Midas will run it after interactions.\n",
    "Reactive cells can be used to inspect the state or computation related to the selection events."
   ]
  },
  {
   "cell_type": "code",
   "execution_count": null,
   "metadata": {},
   "outputs": [],
   "source": [
    "%%reactive\n",
    "\n",
    "print(m.current_selection)"
   ]
  },
  {
   "cell_type": "code",
   "execution_count": null,
   "metadata": {},
   "outputs": [],
   "source": [
    "%%reactive\n",
    "\n",
    "if m.immediate_value:\n",
    "    discoverytime_firesize_df = fires_df.where('STATE', m.are.contained_in(m.immediate_value)).select([\"DISCOVERY_TIME\", \"FIRE_SIZE\"])\n",
    "    discoverytime_firesize_df.reactive_vis()"
   ]
  },
  {
   "cell_type": "markdown",
   "metadata": {},
   "source": [
    "## Testing your understanding\n",
    "\n",
    "Please make sure you have the distribution of the `STATE` column ready (by clicking on `STATE`), and the distribution of `CAUSE_DESCR`. Using this interactive visualization, please identify a couple interesting findings."
   ]
  },
  {
   "cell_type": "code",
   "execution_count": null,
   "metadata": {},
   "outputs": [],
   "source": []
  }
 ],
 "metadata": {
  "history": [
   {
    "code": "from midas import Midas\nm = Midas()",
    "id": "66a0cbcd034d4d8a833f25616e2ce1ee",
    "idx": 2,
    "time": "2020-03-11T02:34:12.592Z",
    "type": "execution"
   },
   {
    "id": "66a0cbcd034d4d8a833f25616e2ce1ee",
    "time": "2020-03-11T02:34:12.691Z",
    "type": "completion"
   }
  ],
  "kernelspec": {
   "display_name": "Python 3",
   "language": "python",
   "name": "python3"
  },
  "language_info": {
   "codemirror_mode": {
    "name": "ipython",
    "version": 3
   },
   "file_extension": ".py",
   "mimetype": "text/x-python",
   "name": "python",
   "nbconvert_exporter": "python",
   "pygments_lexer": "ipython3",
   "version": "3.7.4"
  }
 },
 "nbformat": 4,
 "nbformat_minor": 2
}
