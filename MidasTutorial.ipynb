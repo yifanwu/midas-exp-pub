{
 "cells": [
  {
   "cell_type": "markdown",
   "metadata": {},
   "source": [
    "# Midas Tutorial\n",
    "\n",
    "Hello! Please follow the tutorial to learn the basics of Midas. Be sure to play around until you are comfortable. You will have about 20 minutes. Should you have any questions, please feel free to ask Yifan, who will be present during the entire session.  You should\n",
    "\n",
    "* execute the cells\n",
    "* optionally read the text in <font color=\"gray\">gray</font>."
   ]
  },
  {
   "cell_type": "code",
   "execution_count": null,
   "metadata": {},
   "outputs": [],
   "source": [
    "from midas import Midas\n",
    "import numpy as np\n",
    "\n",
    "m = Midas()"
   ]
  },
  {
   "cell_type": "markdown",
   "metadata": {},
   "source": [
    "## Initiate Midas\n",
    "\n",
    "Import the the Midas class from library `midas`. When you create an instance of `Midas`, you see that a dashboard-like area pops up to the right, composed of **two pannels**, one that will be populated with visualizations of dataframes you create, and one for the columns of these dataframes.\n",
    "\n",
    "**Adjusting the pannels**\n",
    "\n",
    "- Drag the left edge of the pannel to change the size.\n",
    "- Click the \"toggle midas\" and \"toggle column shelf\" to hide/show the shelves.\n",
    "\n",
    "<font color='gray'>Per a single notebook, you can only have one Midas instance.</font> "
   ]
  },
  {
   "cell_type": "markdown",
   "metadata": {},
   "source": [
    "## Load data\n",
    "\n",
    "Midas takes in data from a few APIs, such as `from_file`, used below, which loads csv files. These externally loaded dataframees are considered to be **original dataframe**s and will be shown to the yellow pane to the right. <font color=\"gray\"> Any dataframes computed from these original ones will _not_ be shown in the pane, unless you manually add, using `.show_profile`.</font>"
   ]
  },
  {
   "cell_type": "code",
   "execution_count": null,
   "metadata": {},
   "outputs": [],
   "source": [
    "fires_df = m.from_file(\"./data/fires.csv\")\n",
    "fires_df"
   ]
  },
  {
   "cell_type": "markdown",
   "metadata": {},
   "source": [
    "## Querying data\n",
    "\n",
    "Midas supports dataframes with syntax using that of the [data science module](http://data8.org/datascience/), which we talked about earlier."
   ]
  },
  {
   "cell_type": "code",
   "execution_count": null,
   "metadata": {},
   "outputs": [],
   "source": [
    "# You might be more used to seeing the syntax df['FIRE_SIZE'] > 100\n",
    "# Our syntax requires that you explicitly call the function.\n",
    "big_fires = fires_df.where('FIRE_SIZE', m.are.above(100))\n",
    "big_fires"
   ]
  },
  {
   "cell_type": "markdown",
   "metadata": {},
   "source": [
    "## Seeing data\n",
    "\n",
    "Midas attempts to visualize the dataframe for you directly---to do this, just call the `.vis()` function.\n",
    "\n",
    "If you click on the circular ellipses to the right, you will find a few helpful buttons\n",
    "- ⬅️➡️ move the charts around in the dashboard area\n",
    "- 📷 take a snapshot of the current chart\n",
    "- 📊 navigate back to the cell for which the chart is defined\n",
    "- ➖ minimizes the chart\n",
    "- ❌ deletes the chart\n",
    "\n",
    "<font color=\"gray\">Sometimes, you may want to change the kind of chart, which is also very easy to do in Midas. If you want to change the chart types from bar to scatter, or to line etc., just specify `mark` (`\"bar\"`, `\"line\"`, or `\"circle\"`).</font>"
   ]
  },
  {
   "cell_type": "code",
   "execution_count": null,
   "metadata": {},
   "outputs": [],
   "source": [
    "STATE_distribution = fires_df.group('STATE')\n",
    "STATE_distribution.vis()"
   ]
  },
  {
   "cell_type": "code",
   "execution_count": null,
   "metadata": {},
   "outputs": [],
   "source": [
    "# you can use your own aggregators\n",
    "average_fire_size = fires_df.select(['STATE', 'FIRE_SIZE']).group('STATE', np.average)\n",
    "average_fire_size.vis()"
   ]
  },
  {
   "cell_type": "markdown",
   "metadata": {},
   "source": [
    "## Seeing distributions automatically\n",
    "\n",
    "When you click on a column in the columns pane, go ahead and click on the \"STATE\" column. After you click, two effects take place:\n",
    "* a chart is created. <font color=\"gray\">Sometimes, we cannot visualize the data if there are too many values or `NaN`s.</font>\n",
    "* a new cell is created with code that draws the charts, annotated with 🟠. <font color=\"gray\">You can modify these cells---they are the same as any cells you write. If you can a different chart, do modify the queries.</font>"
   ]
  },
  {
   "cell_type": "markdown",
   "metadata": {},
   "source": [
    "## Making selections\n",
    "\n",
    "You can **select** within the charts created.\n",
    "\n",
    "* When the data is numeric, **brush** to select (**shift + drag**).\n",
    "* When data is string, **click** to select and **shift-click** to add more.\n",
    "\n",
    "To deselect, clicking on any region of chart that's empty.\n",
    "\n",
    "When you perform a selection, you will observe two effects\n",
    "1. a cell will be generated with the selections you have made, annotated with 🔵---if you find these selections too confusing, you can **toggle all selection cells** by click on the 🔵 button in the menu bar.\n",
    "2. other visualizations will be  filtered by the selection---this is known as a **\"cross-filter\"** interaction technique.\n",
    "\n",
    "The original data might be useful to provide a stable point of reference. However, if you do _not_ wish to see the original data in the background (in a dimmer blue color), just click on the emoji 📌 to \"unpin\" the original data, and then click 📍 to pin the original data back. As an example, when you visualize the `average` or `median`, you might want to remove the orignal data, since the values maybe have increased (as opposed to being smaller)."
   ]
  },
  {
   "cell_type": "code",
   "execution_count": null,
   "metadata": {},
   "outputs": [],
   "source": [
    "m.sel([{\"STATE_distribution\": {\"STATE\": [\"CA\"]}}])"
   ]
  },
  {
   "cell_type": "code",
   "execution_count": null,
   "metadata": {},
   "outputs": [],
   "source": [
    "# reset selections\n",
    "m.sel([])"
   ]
  },
  {
   "cell_type": "markdown",
   "metadata": {},
   "source": [
    "### 🌟Interactions Tactics🌟\n",
    "\n",
    "Filtering data based on your selections could be a powerful tool. Sometimes you have to create the charts so as to filter other data. For instance, if you want to get a sense of how the different `state`s are affected by the cause of fire, you can click on `STATE` and `CAUSE_DESC` to show *both* charts and then click on the causes in the bar chart for `CAUSE_DESC`."
   ]
  },
  {
   "cell_type": "markdown",
   "metadata": {},
   "source": [
    "## Accessing selections programmatically"
   ]
  },
  {
   "cell_type": "code",
   "execution_count": null,
   "metadata": {},
   "outputs": [],
   "source": [
    "# the interaction you just had\n",
    "m.immediate_selection"
   ]
  },
  {
   "cell_type": "code",
   "execution_count": null,
   "metadata": {},
   "outputs": [],
   "source": [
    "# this is a shorthand to just access the value\n",
    "m.immediate_value"
   ]
  },
  {
   "cell_type": "code",
   "execution_count": null,
   "metadata": {},
   "outputs": [],
   "source": [
    "# across all current charts\n",
    "m.current_selection"
   ]
  },
  {
   "cell_type": "code",
   "execution_count": null,
   "metadata": {},
   "outputs": [],
   "source": [
    "# all current_selections in the past\n",
    "m.all_selections"
   ]
  },
  {
   "cell_type": "code",
   "execution_count": null,
   "metadata": {},
   "outputs": [],
   "source": [
    "# if you currently have a filter that applied to STATE_distribution\n",
    "# you can get the data via the API `get_filtered_data`\n",
    "STATE_distribution.get_filtered_data()"
   ]
  },
  {
   "cell_type": "code",
   "execution_count": null,
   "metadata": {},
   "outputs": [],
   "source": [
    "# go to the chart dropdown menu, click 📋, which copies the code to the clip-board\n",
    "STATE_distribution.get_code()"
   ]
  },
  {
   "cell_type": "markdown",
   "metadata": {},
   "source": [
    "## Reactive cells and custom visualizations\n",
    "\n",
    "A reactive cell means that Midas will run it after interactions.\n",
    "Reactive cells can be used to inspect the state or computation related to the selection events."
   ]
  },
  {
   "cell_type": "code",
   "execution_count": null,
   "metadata": {},
   "outputs": [],
   "source": [
    "%%reactive\n",
    "\n",
    "print(m.current_selection)"
   ]
  },
  {
   "cell_type": "code",
   "execution_count": null,
   "metadata": {},
   "outputs": [],
   "source": [
    "%%reactive\n",
    "\n",
    "if m.immediate_value:\n",
    "    discoverytime_firesize_df = fires_df.where('STATE', m.are.contained_in(m.immediate_value)).select([\"DISCOVERY_TIME\", \"FIRE_SIZE\"])\n",
    "    discoverytime_firesize_df.reactive_vis()"
   ]
  }
 ],
 "metadata": {
  "history": [
   {
    "code": "from midas import Midas\nm = Midas()",
    "id": "66a0cbcd034d4d8a833f25616e2ce1ee",
    "idx": 2,
    "time": "2020-03-11T02:34:12.592Z",
    "type": "execution"
   },
   {
    "id": "66a0cbcd034d4d8a833f25616e2ce1ee",
    "time": "2020-03-11T02:34:12.691Z",
    "type": "completion"
   }
  ],
  "kernelspec": {
   "display_name": "Python 3",
   "language": "python",
   "name": "python3"
  },
  "language_info": {
   "codemirror_mode": {
    "name": "ipython",
    "version": 3
   },
   "file_extension": ".py",
   "mimetype": "text/x-python",
   "name": "python",
   "nbconvert_exporter": "python",
   "pygments_lexer": "ipython3",
   "version": "3.7.4"
  }
 },
 "nbformat": 4,
 "nbformat_minor": 2
}
