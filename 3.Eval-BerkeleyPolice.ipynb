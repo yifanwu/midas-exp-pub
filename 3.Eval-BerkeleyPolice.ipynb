{
 "cells": [
  {
   "cell_type": "markdown",
   "metadata": {},
   "source": [
    "# Data Analysis Task\n",
    "\n",
    "In this doucment, we will look at calls and arrests from the police department at Berkeley. You will be performing data analysis and some basic modeling. **Please take notes of your finding in markdown and chart snapshots**. The notebook should be readable by others. During the analysis, you might find it helpful to check the other notebook for reference."
   ]
  },
  {
   "cell_type": "code",
   "execution_count": null,
   "metadata": {},
   "outputs": [],
   "source": [
    "from midas import Midas\n",
    "import numpy as np\n",
    "\n",
    "# fill in here, e.g., \"experiment_12\"\n",
    "pid = ...\n",
    "\n",
    "m = Midas(pid, \"eval_berkeley_police\")"
   ]
  },
  {
   "cell_type": "markdown",
   "metadata": {},
   "source": [
    "## Data Description\n",
    "\n",
    "The data is from [City of Berkeley](https://data.cityofberkeley.info/Public-Safety/Berkeley-PD-Calls-for-Service/k2nh-s5h5). Of the calls to the police during the month of July 2019.\n",
    "\n",
    "column | description | data type\n",
    "------ | ----------- | ---------\n",
    "`CASENO`  | Case Number | Number\n",
    "`OFFENSE` | Offense Type | Plain Text\n",
    "`EVENTDT` | Date Event Occurred | Date Time\n",
    "`EVENTTM` | Time Event Occurred | Plain Text\n",
    "`CVLEGEND` | Description of Event | Plain Text\n",
    "`CVDOW` | Day of Week Event Occurred: 0 = Sunday 1 = Monday, etc. 6 = Saturday | Number\n",
    "`Block_Location` | the area the call is concered with | Plain Text\n",
    "`Lat` | latitutde of the location related to the call, contains null values | Number\n",
    "`Lon` | longitutde of the location, contains null values | Number\n",
    "`BLKADDR` | area address | Plain Text"
   ]
  },
  {
   "cell_type": "code",
   "execution_count": null,
   "metadata": {},
   "outputs": [],
   "source": [
    "calls_df = m.from_file(\"./data/berkeley_calls_july_first_half.csv\")\n",
    "calls_df.head(3)"
   ]
  },
  {
   "cell_type": "markdown",
   "metadata": {},
   "source": [
    "### Task 1a: identify common weekend offenses\n",
    "\n",
    "**Please identify the top two types of offenes (`CVLEGEND`) on the weekends (`CVDOW`)**---you can use dataframes to answer this question. If you are using Midas, you might find the API `.vis(selection_type=\"multiclick\")` helpful. Don't forget to record the charts that support your findings!"
   ]
  },
  {
   "cell_type": "code",
   "execution_count": null,
   "metadata": {},
   "outputs": [],
   "source": [
    "m.log_entry(\"startQ1a\")"
   ]
  },
  {
   "cell_type": "markdown",
   "metadata": {},
   "source": [
    "### Task 1b: verify the result holds on another dataset\n",
    "\n",
    "We now have a new dataset below. Please verify if your previous observations still hold. You might find it helpful to copy the code of your analysis result by clicking on \"copy code to clipboard\" from the distribution of `cvlegends`."
   ]
  },
  {
   "cell_type": "code",
   "execution_count": null,
   "metadata": {},
   "outputs": [],
   "source": [
    "m.log_entry(\"startQ1b\")"
   ]
  },
  {
   "cell_type": "code",
   "execution_count": null,
   "metadata": {},
   "outputs": [],
   "source": [
    "calls_fall_df = m.from_file(\"./data/berkeley_calls_july_second_half.csv\")\n",
    "calls_fall_df.head(3)"
   ]
  },
  {
   "cell_type": "code",
   "execution_count": null,
   "metadata": {},
   "outputs": [],
   "source": []
  },
  {
   "cell_type": "markdown",
   "metadata": {},
   "source": [
    "### Task 2a: identify factors with skewed locations\n",
    "\n",
    "Here we have Plot with the `Folium` library, which we provide the stub code for---we use the `Lat` and `Lon` columns (extracted from `Block_Location`).\n",
    "\n",
    "You might find Midas *reactive cells* helpful for slicing the data into different subsets. You can also manually copy-paste the cells if you wish.\n",
    "\n",
    "**Please limit your time to 10 minutes**."
   ]
  },
  {
   "cell_type": "code",
   "execution_count": null,
   "metadata": {},
   "outputs": [],
   "source": [
    "m.log_entry(\"startQ2a\")"
   ]
  },
  {
   "cell_type": "code",
   "execution_count": null,
   "metadata": {},
   "outputs": [],
   "source": [
    "locs = calls_df.select([\"Lat\", \"Lon\"])\n",
    "locs.plot_heatmap()"
   ]
  },
  {
   "cell_type": "markdown",
   "metadata": {},
   "source": [
    "### Task 2b: describe what you have analyzed and what you have not\n",
    "\n",
    "Please try to recall anlysis you have performed and comment on those that you have not looked at. You may find looking at past selections in the cells, or by using `m.all_selections`. This is important for documentation---this helps differentiate insights that are absent from those non-existent."
   ]
  },
  {
   "cell_type": "code",
   "execution_count": null,
   "metadata": {},
   "outputs": [],
   "source": [
    "m.log_entry(\"startQ2b\")"
   ]
  },
  {
   "cell_type": "markdown",
   "metadata": {},
   "source": [
    "### Task 3: create recommendations and basic models for the incidents\n",
    "\n",
    "The police department at Berkeley asks you for recommendations for how to dispatch their officers, both in terms of how many, when, and where. You might need to perform exploratory data analysis, run statistics, and model relevant values (e.g. counts, frequency, kinds of calls etc.). Please record your reasoning with markdown text and relevant charts. <font color=\"gray\">We understand that you may not have enough background on public safety, but you can still learn something from the data, and when applicable, state your bias and possible mis-information.</font>\n",
    "\n",
    "\n",
    "<font color=\"gray\">Here are some concrete questions to get started:\n",
    "* You have looked at location in previous analysis and day of the week, what about the hour of the day (`EVENTTM`)?\n",
    "* Was there any outlier days (`EVENTDT`)?\n",
    "* Could you group together types of offense based on whether they can benefit from the presence of police? (and maybe re-use your analysis for a different group?)\n",
    "* You can model the counts of the calls per day based on the features, and use `calls_df` for the modeling and then `calls_fall_df` for verification---the verification could be confirming that certian trends are the same, or you can even do explicit inference on a certain value and see how different you are.</font>\n"
   ]
  },
  {
   "cell_type": "code",
   "execution_count": null,
   "metadata": {},
   "outputs": [],
   "source": [
    "m.log_entry(\"startQ3\")"
   ]
  },
  {
   "cell_type": "markdown",
   "metadata": {},
   "source": [
    "## Submit your results\n",
    "\n",
    "Please run the cell below"
   ]
  },
  {
   "cell_type": "code",
   "execution_count": null,
   "metadata": {},
   "outputs": [],
   "source": [
    "%%javascript\n",
    "\n",
    "save_midas_data()"
   ]
  },
  {
   "cell_type": "code",
   "execution_count": null,
   "metadata": {},
   "outputs": [],
   "source": []
  }
 ],
 "metadata": {
  "history": [
   {
    "action": "markdown_rendered",
    "actionKind": "text",
    "cellId": "1db3864c85304f3e86d28caa7b9b53fa",
    "cellPos": 4,
    "code": "### Task 1a: identify common weekend offenses\n\n**Please identify the top two types of offenes (`CVLEGEND`) on the weekends (`CVDOW`)**---you can use dataframes to answer this question. If you are using Midas, you might find the API `.vis(selection_type=\"multiclick\")` helpful. Don't forget to record the charts that support your findings!",
    "time": "2020-04-09T16:51:02.432Z"
   }
  ],
  "kernelspec": {
   "display_name": "Python 3",
   "language": "python",
   "name": "python3"
  },
  "language_info": {
   "codemirror_mode": {
    "name": "ipython",
    "version": 3
   },
   "file_extension": ".py",
   "mimetype": "text/x-python",
   "name": "python",
   "nbconvert_exporter": "python",
   "pygments_lexer": "ipython3",
   "version": "3.7.4"
  }
 },
 "nbformat": 4,
 "nbformat_minor": 2
}
