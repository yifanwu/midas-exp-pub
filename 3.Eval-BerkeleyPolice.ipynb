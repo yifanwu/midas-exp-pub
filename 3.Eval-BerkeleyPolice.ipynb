{
 "cells": [
  {
   "cell_type": "markdown",
   "metadata": {},
   "source": [
    "# Data Analysis Task\n",
    "\n",
    "In this doucment, we will look at calls and arrests from the police department at Berkeley. You will be performing data analysis and some basic modeling. **Please take notes of your finding in markdown and chart snapshots**. The notebook should be readable by others. During the analysis, you might find it helpful to check the other notebook for reference."
   ]
  },
  {
   "cell_type": "code",
   "execution_count": null,
   "metadata": {},
   "outputs": [],
   "source": [
    "from midas import Midas\n",
    "import numpy as np\n",
    "from datetime import datetime \n",
    "\n",
    "# fill in here, e.g., \"experiment_12\"\n",
    "pid = ...\n",
    "\n",
    "m = Midas(pid, \"eval_berkeley_police\")"
   ]
  },
  {
   "cell_type": "markdown",
   "metadata": {},
   "source": [
    "## Data Description\n",
    "\n",
    "The data is from [City of Berkeley](https://data.cityofberkeley.info/Public-Safety/Berkeley-PD-Calls-for-Service/k2nh-s5h5). Of the calls to the police during the month of July 2019. Each row contains a phone call to the police department, with the date, the time, the description of the event, and the location. It contains the first half of July.\n",
    "\n",
    "column | description | data type\n",
    "------ | ----------- | ---------\n",
    "`CASENO`  | Case Number | Number\n",
    "`OFFENSE` | Offense Type | Plain Text\n",
    "`EVENTDT` | Date Event Occurred | Date Time\n",
    "`EVENTTM` | Time Event Occurred | Plain Text\n",
    "`CVLEGEND` | Description of Event | Plain Text\n",
    "`CVDOW` | Day of Week Event Occurred: 0 = Sunday 1 = Monday, etc. 6 = Saturday | Number\n",
    "`Block_Location` | the area the call is concered with | Plain Text\n",
    "`Lat` | latitutde of the location related to the call, contains null values, regexed from `Block_Location` | Number\n",
    "`Lon` | longitutde of the location, contains null values, regexed from `Block_Location` | Number\n",
    "`BLKADDR` | area address | Plain Text"
   ]
  },
  {
   "cell_type": "code",
   "execution_count": null,
   "metadata": {},
   "outputs": [],
   "source": [
    "calls_df = m.from_file(\"./data/berkeley_calls_july_first_half.csv\")\n",
    "calls_df.head(3)"
   ]
  },
  {
   "cell_type": "markdown",
   "metadata": {},
   "source": [
    "### Task 1a: identify common weekend offenses (~10 min)\n",
    "\n",
    "What are the top two types of offenes on the weekends?\n",
    "\n",
    "<font color=\"gray\">Hint: `.vis(selection_type=\"multiclick\")` can change a selection from brush to multiple click.</font>"
   ]
  },
  {
   "cell_type": "code",
   "execution_count": null,
   "metadata": {},
   "outputs": [],
   "source": [
    "m.log_start_task(\"Q1a\")"
   ]
  },
  {
   "cell_type": "markdown",
   "metadata": {},
   "source": [
    "### Task 1b: verify the result holds on another dataset (~5 min)\n",
    "\n",
    "We now have a new dataset from the second half of July, please verify if your previous observations still hold, that is, are the categories of offense you found still the most popular?\n",
    "\n",
    "<font color=\"gray\">Hint: clicking on \"copy code to clipboard\" could give you the code the result was derived from.</font>"
   ]
  },
  {
   "cell_type": "code",
   "execution_count": null,
   "metadata": {},
   "outputs": [],
   "source": [
    "m.log_start_task(\"Q1b\")"
   ]
  },
  {
   "cell_type": "code",
   "execution_count": null,
   "metadata": {},
   "outputs": [],
   "source": [
    "calls_fall_df = m.from_file(\"./data/berkeley_calls_july_second_half.csv\")\n",
    "calls_fall_df.head(3)"
   ]
  },
  {
   "cell_type": "code",
   "execution_count": null,
   "metadata": {},
   "outputs": [],
   "source": []
  },
  {
   "cell_type": "markdown",
   "metadata": {},
   "source": [
    "### Task 2a: does the area offenses differ by type? (~15 min)\n",
    "\n",
    "Please observe interesting facts related to locations. Does downtown Berkeley have more crimes? What about on campus? Are there more crimes of a certain type? Can you generalize the types of crime with types of areas based on your knowledge of the city?\n",
    "\n",
    "<font color=\"gray\">Hint: `plot_heatmap` plots a heat map give `Lat` and `Lon`. Reactive cells with `%%reactive` are re-ran after each chart selection.</font>"
   ]
  },
  {
   "cell_type": "code",
   "execution_count": null,
   "metadata": {},
   "outputs": [],
   "source": [
    "m.log_start_task(\"Q2a\")"
   ]
  },
  {
   "cell_type": "code",
   "execution_count": null,
   "metadata": {},
   "outputs": [],
   "source": [
    "locs = calls_df.select([\"Lat\", \"Lon\"])\n",
    "locs.()"
   ]
  },
  {
   "cell_type": "markdown",
   "metadata": {},
   "source": [
    "### Task 2b: describe what you have analyzed and what you have not (~5 min)\n",
    "\n",
    "A teammate is going to take over Task 2a from now, please let them know you have looked at so they can cover the other analysis!\n",
    "\n",
    "<font color=\"gray\">Hint: You may find looking at past selections in the cells, or by using `m.all_selections`.</font>"
   ]
  },
  {
   "cell_type": "code",
   "execution_count": null,
   "metadata": {},
   "outputs": [],
   "source": [
    "m.log_start_task(\"Q2b\")"
   ]
  },
  {
   "cell_type": "markdown",
   "metadata": {},
   "source": [
    "### Task 3: create recommendations and basic models for the incidents  (~30 min)\n",
    "\n",
    "Might you have observatiosn and recommendations to the police department at Berkeley based on this data?\n",
    "\n",
    "You can start with some basics observations, such as what areas are more densely populated during the day and what during evening times, and whether holidays (e.g., July 4th) has an effect. Then later you can model the data and present quantative numbers, such as X% of officers are expected to be downtown, with a Y% hike on the weekend evenings. If you want to build a machine learning model, e.g., to predict the type of offense based on location and time, feel free!\n",
    "\n",
    "<font color=\"gray\">We understand that you may not have enough background on public safety, but you can still learn something from the data, and when applicable, state your bias and possible mis-information.</font>"
   ]
  },
  {
   "cell_type": "code",
   "execution_count": null,
   "metadata": {},
   "outputs": [],
   "source": [
    "m.log_start_task(\"Q3\")"
   ]
  },
  {
   "cell_type": "markdown",
   "metadata": {},
   "source": [
    "## Submit your results\n",
    "\n",
    "Please run the cell below"
   ]
  },
  {
   "cell_type": "code",
   "execution_count": null,
   "metadata": {},
   "outputs": [],
   "source": [
    "%%javascript\n",
    "\n",
    "downloadMidasData()"
   ]
  },
  {
   "cell_type": "code",
   "execution_count": null,
   "metadata": {},
   "outputs": [],
   "source": []
  }
 ],
 "metadata": {
  "history": [
   {
    "action": "markdown_rendered",
    "actionKind": "text",
    "cellId": "1db3864c85304f3e86d28caa7b9b53fa",
    "cellPos": 4,
    "code": "### Task 1a: identify common weekend offenses\n\n**Please identify the top two types of offenes (`CVLEGEND`) on the weekends (`CVDOW`)**---you can use dataframes to answer this question. If you are using Midas, you might find the API `.vis(selection_type=\"multiclick\")` helpful. Don't forget to record the charts that support your findings!",
    "time": "2020-04-09T16:51:02.432Z"
   }
  ],
  "kernelspec": {
   "display_name": "Python 3",
   "language": "python",
   "name": "python3"
  },
  "language_info": {
   "codemirror_mode": {
    "name": "ipython",
    "version": 3
   },
   "file_extension": ".py",
   "mimetype": "text/x-python",
   "name": "python",
   "nbconvert_exporter": "python",
   "pygments_lexer": "ipython3",
   "version": "3.7.4"
  }
 },
 "nbformat": 4,
 "nbformat_minor": 2
}
