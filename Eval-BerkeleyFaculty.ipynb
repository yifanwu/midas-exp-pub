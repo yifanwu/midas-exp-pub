{
 "cells": [
  {
   "cell_type": "markdown",
   "metadata": {},
   "source": [
    "## Evaluation Task\n",
    "\n",
    "Hello participant! This is the second part of the evaluation, you have 30 minutes to explore and identify interesting facts about the data:\n",
    "\n",
    "**Everytime you have an insight, please immediately create a markdown cell that notes down your finding**---we have created a insight template that you can copy.\n",
    "\n",
    "Please create **one insight per cell**. If you are using Midas and there is a relevant chart, or sets of charts, please also clip the charts (by clicking on the emoji 📷). "
   ]
  },
  {
   "cell_type": "markdown",
   "metadata": {},
   "source": [
    "**insight:**"
   ]
  },
  {
   "cell_type": "code",
   "execution_count": null,
   "metadata": {},
   "outputs": [],
   "source": [
    "task_id = \"eval_faculty\"\n",
    "\n",
    "# please fill out your participand id, e.g., \"pilot_2\" \n",
    "pid = ...\n",
    "\n",
    "from midas import Midas\n",
    "m = Midas(pid, task_id)\n",
    "salary_df = m.from_file(\"./data/berkeley_faculty.csv\")"
   ]
  },
  {
   "cell_type": "code",
   "execution_count": null,
   "metadata": {},
   "outputs": [],
   "source": [
    "from datascience import Table\n",
    "\n",
    "salary_df = Table().read_table(\"/Users/yifanwu/dev/midas-experiment/data/final/processed_berkeley_faculty.csv\")\n",
    "salary_df"
   ]
  },
  {
   "cell_type": "markdown",
   "metadata": {},
   "source": [
    "## Understanding the Data\n",
    "\n",
    "The `salary_df` data set contains, in each row, the salary per factulty per year at UC Berkeley. Each row also contains the faculty's title and department.\n",
    "\n",
    "<font color=\"gray\">Since UC Berkeley is a public institution, these data are published publically. Data is provided by [Daily Cal](https://github.com/dailycal-projects/ucb-faculty-salary).</font>"
   ]
  },
  {
   "cell_type": "markdown",
   "metadata": {},
   "source": [
    "### Task One: Explore (15 min)\n",
    "\n",
    "The goal here is to **learn basic facts** <font color=\"gray\">e.g., professors in department X has the highest median income</font>, and **identify note worthy patterns** <font color=\"gray\">e.g., professors tend to make X times more than assistant professors</font>.\n",
    "\n",
    "**Everytime you have an insight, please create a markdown cell that notes down your finding**. Please create **one insight per cell**. Show relevant graphics if relevant."
   ]
  },
  {
   "cell_type": "code",
   "execution_count": null,
   "metadata": {},
   "outputs": [],
   "source": []
  },
  {
   "cell_type": "markdown",
   "metadata": {},
   "source": [
    "### Task Two: Investigate (15 min)\n",
    "\n",
    "In this section, please come up with a hypothesis and then verify it <font color=\"gray\">e.g., whether larger departments also have higher pay, or whether departments with really high pays have consistent high pays or just some outliers etc.</font>.  Please also be on the look out for interesting things you find **along the way**, be sure to take quick notes."
   ]
  },
  {
   "cell_type": "code",
   "execution_count": null,
   "metadata": {},
   "outputs": [],
   "source": []
  }
 ],
 "metadata": {
  "kernelspec": {
   "display_name": "Python 3",
   "language": "python",
   "name": "python3"
  },
  "language_info": {
   "codemirror_mode": {
    "name": "ipython",
    "version": 3
   },
   "file_extension": ".py",
   "mimetype": "text/x-python",
   "name": "python",
   "nbconvert_exporter": "python",
   "pygments_lexer": "ipython3",
   "version": "3.7.4"
  }
 },
 "nbformat": 4,
 "nbformat_minor": 2
}
