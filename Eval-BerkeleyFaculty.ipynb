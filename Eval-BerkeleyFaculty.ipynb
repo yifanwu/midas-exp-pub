{
 "cells": [
  {
   "cell_type": "markdown",
   "metadata": {},
   "source": [
    "## Evaluation Task\n",
    "\n",
    "Hello participant! This is the second part of the evaluation, you have 30 minutes to explore and identify interesting facts about the data:\n",
    "\n",
    "**Everytime you have an insight, please immediately create a markdown cell that notes down your finding**---we have created a insight template that you can copy.\n",
    "\n",
    "Please create **one insight per cell**. If you are using Midas and there is a relevant chart, or sets of charts, please also clip the charts (by clicking on the emoji 📷). "
   ]
  },
  {
   "cell_type": "markdown",
   "metadata": {},
   "source": [
    "**insight:**"
   ]
  },
  {
   "cell_type": "code",
   "execution_count": null,
   "metadata": {},
   "outputs": [],
   "source": [
    "task_id = \"eval_faculty\"\n",
    "\n",
    "# please fill out your participant id, e.g., \"pilot_2\" \n",
    "pid = \"test_1\"\n",
    "\n",
    "from midas import Midas\n",
    "m = Midas(pid, task_id)\n",
    "salary_df = m.from_file(\"./data/berkeley_faculty.csv\")"
   ]
  },
  {
   "cell_type": "code",
   "execution_count": null,
   "metadata": {},
   "outputs": [],
   "source": [
    "from datascience import Table, are\n",
    "import numpy as np \n",
    "\n",
    "salary_df = Table().read_table(\"./data/berkeley_faculty.csv\")\n",
    "salary_df"
   ]
  },
  {
   "cell_type": "code",
   "execution_count": 2,
   "metadata": {},
   "outputs": [
    {
     "data": {
      "text/html": [
       "<table border=\"1\" class=\"dataframe\">\n",
       "    <thead>\n",
       "        <tr>\n",
       "            <th>first</th> <th>last</th> <th>department</th> <th>year</th> <th>title</th> <th>salary</th>\n",
       "        </tr>\n",
       "    </thead>\n",
       "    <tbody>\n",
       "        <tr>\n",
       "            <td>CYNTHIA</td> <td>ABAN  </td> <td>South & Southeast Asian Studies</td> <td>2015</td> <td>lecturer           </td> <td>64450  </td>\n",
       "        </tr>\n",
       "        <tr>\n",
       "            <td>CYNTHIA</td> <td>ABAN  </td> <td>South & Southeast Asian Studies</td> <td>2014</td> <td>lecturer           </td> <td>51131  </td>\n",
       "        </tr>\n",
       "        <tr>\n",
       "            <td>CYNTHIA</td> <td>ABAN  </td> <td>South & Southeast Asian Studies</td> <td>2013</td> <td>lecturer           </td> <td>47126  </td>\n",
       "        </tr>\n",
       "        <tr>\n",
       "            <td>CYNTHIA</td> <td>ABAN  </td> <td>South & Southeast Asian Studies</td> <td>2012</td> <td>lecturer           </td> <td>49718  </td>\n",
       "        </tr>\n",
       "        <tr>\n",
       "            <td>CYNTHIA</td> <td>ABAN  </td> <td>South & Southeast Asian Studies</td> <td>2011</td> <td>lecturer           </td> <td>7662.54</td>\n",
       "        </tr>\n",
       "        <tr>\n",
       "            <td>PIETER </td> <td>ABBEEL</td> <td>Computer Science               </td> <td>2015</td> <td>associate professor</td> <td>184998 </td>\n",
       "        </tr>\n",
       "        <tr>\n",
       "            <td>PIETER </td> <td>ABBEEL</td> <td>Computer Science               </td> <td>2014</td> <td>associate professor</td> <td>158682 </td>\n",
       "        </tr>\n",
       "        <tr>\n",
       "            <td>PIETER </td> <td>ABBEEL</td> <td>Computer Science               </td> <td>2013</td> <td>assistant professor</td> <td>140783 </td>\n",
       "        </tr>\n",
       "        <tr>\n",
       "            <td>PIETER </td> <td>ABBEEL</td> <td>Computer Science               </td> <td>2012</td> <td>assistant professor</td> <td>134298 </td>\n",
       "        </tr>\n",
       "        <tr>\n",
       "            <td>PIETER </td> <td>ABBEEL</td> <td>Computer Science               </td> <td>2011</td> <td>assistant professor</td> <td>128167 </td>\n",
       "        </tr>\n",
       "    </tbody>\n",
       "</table>\n",
       "<p>... (16389 rows omitted)</p>"
      ],
      "text/plain": [
       "first   | last   | department                      | year | title               | salary\n",
       "CYNTHIA | ABAN   | South & Southeast Asian Studies | 2015 | lecturer            | 64450\n",
       "CYNTHIA | ABAN   | South & Southeast Asian Studies | 2014 | lecturer            | 51131\n",
       "CYNTHIA | ABAN   | South & Southeast Asian Studies | 2013 | lecturer            | 47126\n",
       "CYNTHIA | ABAN   | South & Southeast Asian Studies | 2012 | lecturer            | 49718\n",
       "CYNTHIA | ABAN   | South & Southeast Asian Studies | 2011 | lecturer            | 7662.54\n",
       "PIETER  | ABBEEL | Computer Science                | 2015 | associate professor | 184998\n",
       "PIETER  | ABBEEL | Computer Science                | 2014 | associate professor | 158682\n",
       "PIETER  | ABBEEL | Computer Science                | 2013 | assistant professor | 140783\n",
       "PIETER  | ABBEEL | Computer Science                | 2012 | assistant professor | 134298\n",
       "PIETER  | ABBEEL | Computer Science                | 2011 | assistant professor | 128167\n",
       "... (16389 rows omitted)"
      ]
     },
     "execution_count": 2,
     "metadata": {},
     "output_type": "execute_result"
    }
   ],
   "source": [
    "salary_df"
   ]
  },
  {
   "cell_type": "markdown",
   "metadata": {},
   "source": [
    "## Understanding the Data\n",
    "\n",
    "The `salary_df` data set contains, in each row, the salary per faculty per year at UC Berkeley. Each row also contains the faculty's title and department.\n",
    "\n",
    "<font color=\"gray\">Since UC Berkeley is a public institution, these data are published publicaly. Data is provided by [Daily Cal](https://github.com/dailycal-projects/ucb-faculty-salary).</font>"
   ]
  },
  {
   "cell_type": "markdown",
   "metadata": {},
   "source": [
    "### Task One: Explore (15 min)\n",
    "\n",
    "The goal here is to **learn basic facts** <font color=\"gray\">e.g., professors in department X has the highest median income</font>, and **identify note worthy patterns** <font color=\"gray\">e.g., professors tend to make X times more than assistant professors</font>.\n",
    "\n",
    "**Everytime you have an insight, please create a markdown cell that notes down your finding**. Please create **one insight per cell**. Show relevant graphics if relevant."
   ]
  },
  {
   "cell_type": "code",
   "execution_count": null,
   "metadata": {},
   "outputs": [],
   "source": []
  },
  {
   "cell_type": "markdown",
   "metadata": {},
   "source": [
    "### Task Two: Investigate (15 min)\n",
    "\n",
    "In this section, please come up with a hypothesis and then verify it <font color=\"gray\">e.g., whether larger departments also have higher pay, or whether departments with really high pays have consistent high pays or just some outliers etc.</font>.  Please also be on the look out for interesting things you find **along the way**, be sure to take quick notes."
   ]
  },
  {
   "cell_type": "code",
   "execution_count": null,
   "metadata": {},
   "outputs": [],
   "source": []
  }
 ],
 "metadata": {
  "kernelspec": {
   "display_name": "Python 3",
   "language": "python",
   "name": "python3"
  },
  "language_info": {
   "codemirror_mode": {
    "name": "ipython",
    "version": 3
   },
   "file_extension": ".py",
   "mimetype": "text/x-python",
   "name": "python",
   "nbconvert_exporter": "python",
   "pygments_lexer": "ipython3",
   "version": "3.7.4"
  }
 },
 "nbformat": 4,
 "nbformat_minor": 2
}
