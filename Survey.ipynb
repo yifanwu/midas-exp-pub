{
 "cells": [
  {
   "cell_type": "markdown",
   "metadata": {},
   "source": [
    "# Midas Survey\n",
    "\n",
    "Please conplete the exit survey. You have 15 minutes. The comments are optional. Make sure to run all cells sequentially."
   ]
  },
  {
   "cell_type": "code",
   "execution_count": null,
   "metadata": {
    "code_folding": []
   },
   "outputs": [],
   "source": [
    "# Please enter the pid as assigned to you\n",
    "pid = \"test_11\""
   ]
  },
  {
   "cell_type": "code",
   "execution_count": null,
   "metadata": {
    "code_folding": []
   },
   "outputs": [],
   "source": [
    "from utils import TIME_OPTIONS, BINARY_OPTIONS, get_comment, get_radio, MidasSurvey, get_options\n",
    "\n",
    "s = MidasSurvey(pid)"
   ]
  },
  {
   "cell_type": "markdown",
   "metadata": {},
   "source": [
    "# Experience with Midas"
   ]
  },
  {
   "cell_type": "code",
   "execution_count": null,
   "metadata": {},
   "outputs": [],
   "source": [
    "q = \"How do you find the Midas extension overall?\"\n",
    "r,a = get_radio(q, get_options(\"Useful\"))"
   ]
  },
  {
   "cell_type": "code",
   "execution_count": null,
   "metadata": {},
   "outputs": [],
   "source": [
    "s.save_answer(q, r.value, a.value, \"use\")"
   ]
  },
  {
   "cell_type": "code",
   "execution_count": null,
   "metadata": {},
   "outputs": [],
   "source": [
    "q = \"Would you use Midas for your future analysis tasks?\"\n",
    "r,a = get_radio(q, BINARY_OPTIONS)"
   ]
  },
  {
   "cell_type": "code",
   "execution_count": null,
   "metadata": {},
   "outputs": [],
   "source": [
    "s.save_answer(q, r.value, a.value, \"future\")"
   ]
  },
  {
   "cell_type": "code",
   "execution_count": null,
   "metadata": {},
   "outputs": [],
   "source": [
    "q = \"How was it to learn to use Midas?\"\n",
    "r,a = get_radio(q, get_options(\"Easy\"))"
   ]
  },
  {
   "cell_type": "code",
   "execution_count": null,
   "metadata": {},
   "outputs": [],
   "source": [
    "s.save_answer(q, r.value, a.value, \"learn\")"
   ]
  },
  {
   "cell_type": "markdown",
   "metadata": {},
   "source": [
    "## Usage Details"
   ]
  },
  {
   "cell_type": "code",
   "execution_count": null,
   "metadata": {
    "code_folding": []
   },
   "outputs": [],
   "source": [
    "q = \"How did you find the static visualization component?\"\n",
    "r, a = get_radio(q, get_options(\"Useful\"), \"The `.vis()` method.\")"
   ]
  },
  {
   "cell_type": "code",
   "execution_count": null,
   "metadata": {},
   "outputs": [],
   "source": [
    "s.save_answer(q, r.value, a.value, \"static\")"
   ]
  },
  {
   "cell_type": "code",
   "execution_count": null,
   "metadata": {},
   "outputs": [],
   "source": [
    "q = \"How do you find the interactive visualizations?\"\n",
    "r,a = get_radio(q, get_options(\"Useful\"), \"The selections on charts that filters other charts.\")"
   ]
  },
  {
   "cell_type": "code",
   "execution_count": null,
   "metadata": {},
   "outputs": [],
   "source": [
    "save_answer(q, r.value, a.value, \"interactive\")"
   ]
  },
  {
   "cell_type": "code",
   "execution_count": null,
   "metadata": {},
   "outputs": [],
   "source": [
    "q = \"How do you find the programmatic access to the selections and charts?\"\n",
    "r,a = get_radio(q, get_options(\"Useful\"), \"Including the `.get_filtered_data()`, `.get_code()`, `m.current_selection`, etc.\")"
   ]
  },
  {
   "cell_type": "code",
   "execution_count": null,
   "metadata": {},
   "outputs": [],
   "source": [
    "s.save_answer(q, r.value, a.value, \"programmatic\")"
   ]
  },
  {
   "cell_type": "code",
   "execution_count": null,
   "metadata": {},
   "outputs": [],
   "source": [
    "q = \"How do you find context switching between coding and interacting with charts?\"\n",
    "r,a = get_radio(q, get_options(\"Straightforward\"), \"Like writing queries one moment, and then filtering charts another moment.\")"
   ]
  },
  {
   "cell_type": "code",
   "execution_count": null,
   "metadata": {},
   "outputs": [],
   "source": [
    "s.save_answer(q, r.value, a.value, \"switch\")"
   ]
  },
  {
   "cell_type": "code",
   "execution_count": null,
   "metadata": {},
   "outputs": [],
   "source": [
    "q = \"Was there any behavior that you were not sure of?\"\n",
    "a = get_comment(q)"
   ]
  },
  {
   "cell_type": "code",
   "execution_count": null,
   "metadata": {},
   "outputs": [],
   "source": [
    "s.save_answer(q, \"\", a.value, \"unsure\")"
   ]
  },
  {
   "cell_type": "code",
   "execution_count": null,
   "metadata": {},
   "outputs": [],
   "source": [
    "q = \"Anything you think that we can improve on?\"\n",
    "a = get_comment(q)"
   ]
  },
  {
   "cell_type": "code",
   "execution_count": null,
   "metadata": {},
   "outputs": [],
   "source": [
    "s.save_answer(q, \"\", a.value, \"improve\")"
   ]
  },
  {
   "cell_type": "markdown",
   "metadata": {},
   "source": [
    "# Prior Data Analysis Experience"
   ]
  },
  {
   "cell_type": "code",
   "execution_count": null,
   "metadata": {},
   "outputs": [],
   "source": [
    "q = \"In your prior analysis, how often do you use <i>static</i> visualizations?\"\n",
    "r,a = get_radio(q, TIME_OPTIONS)"
   ]
  },
  {
   "cell_type": "code",
   "execution_count": null,
   "metadata": {},
   "outputs": [],
   "source": [
    "s.save_answer(q, r.value, a.value, \"static_before\")"
   ]
  },
  {
   "cell_type": "code",
   "execution_count": null,
   "metadata": {},
   "outputs": [],
   "source": [
    "q = \"How often do you use <i>interactive</i> visualizations?\"\n",
    "r,a = get_radio(q, TIME_OPTIONS)"
   ]
  },
  {
   "cell_type": "code",
   "execution_count": null,
   "metadata": {},
   "outputs": [],
   "source": [
    "s.save_answer(q, r.value, a.value, \"interactive_before\")"
   ]
  },
  {
   "cell_type": "code",
   "execution_count": null,
   "metadata": {},
   "outputs": [],
   "source": [
    "q = \"Would you consider yourself experienced with data science?\"\n",
    "r,a = get_radio(q, get_options(\"Experienced\"))"
   ]
  },
  {
   "cell_type": "code",
   "execution_count": null,
   "metadata": {},
   "outputs": [],
   "source": [
    "s.save_answer(q, r.value, a.value, \"experienced\")"
   ]
  }
 ],
 "metadata": {
  "history": [],
  "kernelspec": {
   "display_name": "Python 3",
   "language": "python",
   "name": "python3"
  },
  "language_info": {
   "codemirror_mode": {
    "name": "ipython",
    "version": 3
   },
   "file_extension": ".py",
   "mimetype": "text/x-python",
   "name": "python",
   "nbconvert_exporter": "python",
   "pygments_lexer": "ipython3",
   "version": "3.7.4"
  }
 },
 "nbformat": 4,
 "nbformat_minor": 2
}
