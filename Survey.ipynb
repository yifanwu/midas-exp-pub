{
 "cells": [
  {
   "cell_type": "markdown",
   "metadata": {},
   "source": [
    "# Midas Survey\n",
    "\n",
    "Please conplete the exit survey. You have 15 minutes. The comments are optional.\n",
    "\n",
    "Please make sure to run the cell that runs the function `save_answer`."
   ]
  },
  {
   "cell_type": "code",
   "execution_count": null,
   "metadata": {
    "code_folding": []
   },
   "outputs": [],
   "source": [
    "# Please enter the pid as assigned to you\n",
    "pid = ..."
   ]
  },
  {
   "cell_type": "code",
   "execution_count": null,
   "metadata": {
    "code_folding": []
   },
   "outputs": [],
   "source": [
    "# setup\n",
    "import ipywidgets as widgets\n",
    "from ipywidgets import HBox, Layout\n",
    "from IPython.display import Markdown\n",
    "# open the connections so we can store our data\n",
    "import sqlite3\n",
    "\n",
    "\n",
    "setup_sql = \"\"\"create table survey ( \n",
    "                  question text not null, \n",
    "                  choice text not null, \n",
    "                  comment text, \n",
    "                  pid text not null, \n",
    "                  unique(question, pid) \n",
    "               )\"\"\"\n",
    "\n",
    "path = f\"survey_{pid}.sqlite\"\n",
    "con = sqlite3.connect(path)\n",
    "cur = con.cursor()\n",
    "cur.execute(setup_sql)\n",
    "\n",
    "OPTIONS = ['Very useful', 'Somewhat useful', 'Not useful', 'No basis to answer']\n",
    "AGREE_OPTIONS = ['Strongly agree', 'Somewhat agree', 'Disagree',  'No basis to answer']\n",
    "BINARY_OPTIONS = ['Yes', 'No']\n",
    "TIME_OPTIONS = ['Often', 'Sometimes', 'Rarely', 'None']\n",
    "\n",
    "def get_options(adjective):\n",
    "    return [f'Very {adjective}', f'Somewhat {adjective}', f'Not {adjective}', 'No basis to answer']\n",
    "    \n",
    "def get_comment(description):\n",
    "    a = widgets.Textarea(description=\"Comments:\")\n",
    "    display(Markdown(f\"### {description}\"))\n",
    "    display(a)\n",
    "    return a\n",
    "\n",
    "\n",
    "def get_radio(description, option=OPTIONS):\n",
    "    r = widgets.RadioButtons(\n",
    "        options=option,\n",
    "        value=option[1],\n",
    "        description=\"\",\n",
    "    )\n",
    "    a = widgets.Textarea(description=\"Comments:\")\n",
    "    display(Markdown(f\"### {description}\"))\n",
    "    display(HBox([r, a]))\n",
    "    return r, a\n",
    "    \n",
    "# checkbox\n",
    "from ipywidgets import Checkbox, Button, HBox, VBox, Label\n",
    "\n",
    "def get_experience():\n",
    "    words = [\n",
    "        \"perform analysis faster\",\n",
    "        \"cover more hypothesis\",\n",
    "        \"cover more hypothesis, or do analysis that I otherwise would not do\",\n",
    "    ]\n",
    "    items = [Checkbox(description=w, layout=Layout(width=\"400px\")) for w in words]\n",
    "    a = widgets.Textarea(description=\"Comments:\")\n",
    "    items.append(a)\n",
    "#     left_box = VBox([items[0], items[1]])\n",
    "#     right_box = VBox([items[2], items[3]])\n",
    "    display(VBox(items, layout=Layout(width=\"700px\")))\n",
    "    return items, a\n",
    "\n",
    "def clean_str(s):\n",
    "    return s.replace(',', '')\n",
    "\n",
    "\n",
    "# if it already exists, then replace it\n",
    "def save_answer(q, r, a):\n",
    "    insert = f\"INSERT OR REPLACE INTO survey VALUES ('{clean_str(q)}', '{r}', '{clean_str(a)}', '{pid}')\"\n",
    "    cur.execute(insert)\n",
    "    con.commit()"
   ]
  },
  {
   "cell_type": "markdown",
   "metadata": {},
   "source": [
    "# Experience with Midas"
   ]
  },
  {
   "cell_type": "code",
   "execution_count": null,
   "metadata": {},
   "outputs": [],
   "source": [
    "q = \"How do you find the Midas extension overall?\"\n",
    "r,a = get_radio(q)"
   ]
  },
  {
   "cell_type": "code",
   "execution_count": null,
   "metadata": {},
   "outputs": [],
   "source": [
    "save_answer(q, r.value, a.value)"
   ]
  },
  {
   "cell_type": "code",
   "execution_count": null,
   "metadata": {},
   "outputs": [],
   "source": [
    "q = \"If available, would you use Midas for your future analysis tasks?\"\n",
    "r,a = get_radio(q, BINARY_OPTIONS)"
   ]
  },
  {
   "cell_type": "code",
   "execution_count": null,
   "metadata": {},
   "outputs": [],
   "source": [
    "save_answer(q, r.value, a.value)"
   ]
  },
  {
   "cell_type": "code",
   "execution_count": null,
   "metadata": {
    "code_folding": []
   },
   "outputs": [],
   "source": [
    "q = \"How did you find the static visualization component (without interactions) in itself?\"\n",
    "r, a = get_radio(q, get_options(\"useful\"))"
   ]
  },
  {
   "cell_type": "code",
   "execution_count": null,
   "metadata": {},
   "outputs": [],
   "source": [
    "save_answer(q, r.value, a.value)"
   ]
  },
  {
   "cell_type": "code",
   "execution_count": null,
   "metadata": {},
   "outputs": [],
   "source": [
    "q = \"How was it to learn to use Midas?\"\n",
    "r,a = get_radio(q, get_options(\"easy\"))"
   ]
  },
  {
   "cell_type": "code",
   "execution_count": null,
   "metadata": {},
   "outputs": [],
   "source": [
    "save_answer(q, r.value, a.value)"
   ]
  },
  {
   "cell_type": "code",
   "execution_count": null,
   "metadata": {},
   "outputs": [],
   "source": [
    "q = \"How do you find the brush-linked interactive visualization?\"\n",
    "r,a = get_radio(q)"
   ]
  },
  {
   "cell_type": "code",
   "execution_count": null,
   "metadata": {},
   "outputs": [],
   "source": [
    "save_answer(q, r.value, a.value)"
   ]
  },
  {
   "cell_type": "code",
   "execution_count": null,
   "metadata": {},
   "outputs": [],
   "source": [
    "q = \"How do you find the programmatic access to the selections and charts?\"\n",
    "r,a = get_radio(q)"
   ]
  },
  {
   "cell_type": "code",
   "execution_count": null,
   "metadata": {},
   "outputs": [],
   "source": [
    "save_answer(q, r.value, a.value)"
   ]
  },
  {
   "cell_type": "code",
   "execution_count": null,
   "metadata": {},
   "outputs": [],
   "source": [
    "q = \"How do you find switching between code and interactions?\"\n",
    "r,a = get_radio(q, get_options(\"straightforward\"))"
   ]
  },
  {
   "cell_type": "code",
   "execution_count": null,
   "metadata": {},
   "outputs": [],
   "source": [
    "save_answer(q, r.value, a.value)"
   ]
  },
  {
   "cell_type": "code",
   "execution_count": null,
   "metadata": {},
   "outputs": [],
   "source": [
    "q = \"Was there any behavior that you were not sure of?\"\n",
    "a = get_comment(q)"
   ]
  },
  {
   "cell_type": "code",
   "execution_count": null,
   "metadata": {},
   "outputs": [],
   "source": [
    "save_answer(q, \"\", a.value)"
   ]
  },
  {
   "cell_type": "code",
   "execution_count": null,
   "metadata": {},
   "outputs": [],
   "source": [
    "q = \"Anything you think that we can improve on?\"\n",
    "a = get_comment(q)"
   ]
  },
  {
   "cell_type": "code",
   "execution_count": null,
   "metadata": {},
   "outputs": [],
   "source": [
    "save_answer(q, \"\", a.value)"
   ]
  },
  {
   "cell_type": "markdown",
   "metadata": {},
   "source": [
    "# Prior Data Analysis Experience"
   ]
  },
  {
   "cell_type": "code",
   "execution_count": null,
   "metadata": {},
   "outputs": [],
   "source": [
    "q = \"In your prior analysis, how often do you use <i>static</i> visualizations?\"\n",
    "r,a = get_radio(q, TIME_OPTIONS)"
   ]
  },
  {
   "cell_type": "code",
   "execution_count": null,
   "metadata": {},
   "outputs": [],
   "source": [
    "save_answer(q, r.value, a.value)"
   ]
  },
  {
   "cell_type": "code",
   "execution_count": null,
   "metadata": {},
   "outputs": [],
   "source": [
    "q = \"How often do you use <i>interactive</i> visualizations?\"\n",
    "r,a = get_radio(q, TIME_OPTIONS)"
   ]
  },
  {
   "cell_type": "code",
   "execution_count": null,
   "metadata": {},
   "outputs": [],
   "source": [
    "save_answer(q, r.value, a.value)"
   ]
  },
  {
   "cell_type": "code",
   "execution_count": null,
   "metadata": {},
   "outputs": [],
   "source": []
  }
 ],
 "metadata": {
  "history": [],
  "kernelspec": {
   "display_name": "Python 3",
   "language": "python",
   "name": "python3"
  },
  "language_info": {
   "codemirror_mode": {
    "name": "ipython",
    "version": 3
   },
   "file_extension": ".py",
   "mimetype": "text/x-python",
   "name": "python",
   "nbconvert_exporter": "python",
   "pygments_lexer": "ipython3",
   "version": "3.7.4"
  }
 },
 "nbformat": 4,
 "nbformat_minor": 2
}
