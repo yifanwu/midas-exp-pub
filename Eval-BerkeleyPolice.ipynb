{
 "cells": [
  {
   "cell_type": "code",
   "execution_count": null,
   "metadata": {},
   "outputs": [],
   "source": [
    "%load_ext autoreload\n",
    "%autoreload 2"
   ]
  },
  {
   "cell_type": "code",
   "execution_count": null,
   "metadata": {},
   "outputs": [],
   "source": [
    "from midas import Midas\n",
    "import numpy as np\n",
    "\n",
    "m = Midas()"
   ]
  },
  {
   "cell_type": "markdown",
   "metadata": {},
   "source": [
    "## Data Description\n",
    "\n",
    "The data is from [City of Berkeley](https://data.cityofberkeley.info/Public-Safety/Berkeley-PD-Calls-for-Service/k2nh-s5h5). Of the calls to the police during the month of July 2019.\n",
    "\n",
    "column | description | data type\n",
    "------ | ----------- | ---------\n",
    "`CASENO`  | Case Number | Number\n",
    "`OFFENSE` | Offense Type | Plain Text\n",
    "`EVENTDT` | Date Event Occurred | Date Time\n",
    "`EVENTTM` | Time Event Occurred | Plain Text\n",
    "`CVLEGEND` | Description of Event | Plain Text\n",
    "`CVDOW` | Day of Week Event Occurred: 0 = Sunday 1 = Monday, etc. 6 = Saturday | Number\n",
    "`InDbDate` |Date dataset was updated in the portal |Date Time"
   ]
  },
  {
   "cell_type": "code",
   "execution_count": null,
   "metadata": {},
   "outputs": [],
   "source": [
    "calls_df = m.from_file(\"./data/berkeley_calls_july_first_half.csv\")\n",
    "calls_df.head(3)"
   ]
  },
  {
   "cell_type": "code",
   "execution_count": null,
   "metadata": {},
   "outputs": [],
   "source": [
    "calls_df.stats()"
   ]
  },
  {
   "cell_type": "markdown",
   "metadata": {},
   "source": [
    "### Task: offense types (`cvlegend`)  by day of the week (`csdow`)\n",
    "\n",
    "Qualitatively describe the types of `offense` of the top three are the most common `cvlegends` catogires on the weekends---please be sure to record the types in markdown---you might find `calls_df.get_filtered_data().select([\"offense\"])` useful to help record the offenses after you have done filtering.\n",
    "\n",
    "**up to 10 min**"
   ]
  },
  {
   "cell_type": "markdown",
   "metadata": {},
   "source": [
    "### Task: find any location skews (`block_location`) by other factors\n",
    "\n",
    "To complete this task, you must use regex to get the lat long from `block_location` (see the DataframeReference.ipynb notebook for example), and plot with the `Folium` library (see the MidasDemo.ipynb notebook for example).\n",
    "\n",
    "**up to 15 min**"
   ]
  },
  {
   "cell_type": "markdown",
   "metadata": {},
   "source": [
    "#### Follow up: take note of what you have analyzed and what you have not\n",
    "\n"
   ]
  },
  {
   "cell_type": "markdown",
   "metadata": {},
   "source": [
    "### Task: incorporate new dataset\n",
    "\n",
    "After some analaysis we now know that there is a new data set. Please verify if your previous observations still hold.  Note that you can use the "
   ]
  },
  {
   "cell_type": "code",
   "execution_count": null,
   "metadata": {},
   "outputs": [],
   "source": [
    "calls_fall_df = m.from_file(\"./data/berkeley_calls_july_second_half.csv\")"
   ]
  },
  {
   "cell_type": "markdown",
   "metadata": {},
   "source": [
    "### Task: open ended modeling for the summer months.\n",
    "\n",
    "The police department at Berkeley asks you for recommendations for how to station their officers. We understand that you may not have enough background on how policing works, but please try it out and state sources of bias and possible mis-information. Please just use `calls_df` for this task.\n",
    "\n",
    "We have provided an additional data source below of arrests from the berkeley city open data platform, in case you might find it useful.\n",
    "\n",
    "**up to 30 min**"
   ]
  },
  {
   "cell_type": "code",
   "execution_count": null,
   "metadata": {},
   "outputs": [],
   "source": [
    "from midas.util.utils import fetch_and_cache"
   ]
  },
  {
   "cell_type": "code",
   "execution_count": null,
   "metadata": {},
   "outputs": [],
   "source": [
    "arrest_url = \"https://data.cityofberkeley.info/resource/xi7q-nji6.csv\"\n",
    "arrest_path = fetch_and_cache(arrest_url, \"berkeley_arrests.csv\", force = False)"
   ]
  },
  {
   "cell_type": "code",
   "execution_count": null,
   "metadata": {},
   "outputs": [],
   "source": [
    "# this data, the berkeley website has given no descriptions for\n",
    "arrest_df = m.from_file(arrest_path)\n",
    "arrest_df.head(3)"
   ]
  },
  {
   "cell_type": "code",
   "execution_count": null,
   "metadata": {},
   "outputs": [],
   "source": [
    "# some helper functions\n",
    "from datetime import datetime\n",
    "fun = lambda e: datetime.strptime(e, \"%Y-%m-%dT%H:%M:%S.%f\")\n",
    "arrest_df['parsed_dt'] = arrest_df.apply(fun, 'date_and_time')\n",
    "arrest_df.head(2)"
   ]
  },
  {
   "cell_type": "code",
   "execution_count": null,
   "metadata": {},
   "outputs": [],
   "source": []
  }
 ],
 "metadata": {
  "kernelspec": {
   "display_name": "Python 3",
   "language": "python",
   "name": "python3"
  },
  "language_info": {
   "codemirror_mode": {
    "name": "ipython",
    "version": 3
   },
   "file_extension": ".py",
   "mimetype": "text/x-python",
   "name": "python",
   "nbconvert_exporter": "python",
   "pygments_lexer": "ipython3",
   "version": "3.7.4"
  }
 },
 "nbformat": 4,
 "nbformat_minor": 2
}
