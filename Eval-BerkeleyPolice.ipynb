{
 "cells": [
  {
   "cell_type": "markdown",
   "metadata": {},
   "source": [
    "# Data Analysis Task\n",
    "\n",
    "In this doucment, we will look at calls and arrests from the police department at Berkeley. You will be performing data analysis and some basic modeling. Please take careful notes of your work and make sure that the notebook can be shared with and understood by others."
   ]
  },
  {
   "cell_type": "code",
   "execution_count": null,
   "metadata": {},
   "outputs": [],
   "source": [
    "from midas import Midas\n",
    "import numpy as np\n",
    "\n",
    "# fill in here, e.g., \"experiment_9\"\n",
    "pid = ...\n",
    "\n",
    "m = Midas(pid, \"eval_berkeley_police\")"
   ]
  },
  {
   "cell_type": "markdown",
   "metadata": {},
   "source": [
    "## Data Description\n",
    "\n",
    "The data is from [City of Berkeley](https://data.cityofberkeley.info/Public-Safety/Berkeley-PD-Calls-for-Service/k2nh-s5h5). Of the calls to the police during the month of July 2019.\n",
    "\n",
    "column | description | data type\n",
    "------ | ----------- | ---------\n",
    "`CASENO`  | Case Number | Number\n",
    "`OFFENSE` | Offense Type | Plain Text\n",
    "`EVENTDT` | Date Event Occurred | Date Time\n",
    "`EVENTTM` | Time Event Occurred | Plain Text\n",
    "`CVLEGEND` | Description of Event | Plain Text\n",
    "`CVDOW` | Day of Week Event Occurred: 0 = Sunday 1 = Monday, etc. 6 = Saturday | Number\n",
    "`InDbDate` |Date dataset was updated in the portal |Date Time\n",
    "`Lat` | latitutde of the location related to the call, contains null values | Number\n",
    "`Block_Location` | the area the call is concered with | Plain Text\n",
    "`BLKADDR` | area address | Plain Text\n",
    "`City` | Berkeley | Plain Text\n",
    "`State` | CA | Plain Text\n",
    "`Lon` | longitutde of the location, contains null values | Number"
   ]
  },
  {
   "cell_type": "code",
   "execution_count": null,
   "metadata": {},
   "outputs": [],
   "source": [
    "calls_df = m.from_file(\"./data/berkeley_calls_july_first_half.csv\")\n",
    "calls_df.head(3)"
   ]
  },
  {
   "cell_type": "markdown",
   "metadata": {},
   "source": [
    "### Task 1a: Common weekend offenses\n",
    "\n",
    "**Please identify the top two types of offenes (`CVLEGEND`) on the weekends (`CVDOW`)**---you can use dataframes to answer this question. If you are using Midas, you might find the API `.get_filtered_data()` helpful."
   ]
  },
  {
   "cell_type": "markdown",
   "metadata": {},
   "source": [
    "### Task 1b: verify the result holds on different dataset\n",
    "\n",
    "We now have a new dataset below. Please verify if your previous observations still hold. You might find it helpful to copy the code of your analysis result by clicking on \"copy code to clipboard\" from the distribution of `cvlegends`."
   ]
  },
  {
   "cell_type": "code",
   "execution_count": null,
   "metadata": {},
   "outputs": [],
   "source": [
    "calls_fall_df = m.from_file(\"./data/berkeley_calls_july_second_half.csv\")\n",
    "calls_fall_df.head(3)"
   ]
  },
  {
   "cell_type": "markdown",
   "metadata": {},
   "source": [
    "### Task 2a: find any location skews (`block_location`) by other factors\n",
    "\n",
    "Plot with the `Folium` library, which we provide the stub code for. You might find Midas reactive cells helpful for slicing the data into different subsets. **Please limit your time to 10 minutes**."
   ]
  },
  {
   "cell_type": "code",
   "execution_count": null,
   "metadata": {},
   "outputs": [],
   "source": [
    "import folium\n",
    "import folium.plugins\n",
    "\n",
    "locs = calls_df.where('Lat', m.are.above(1)).select(['Lat', 'Lon']).to_numpy()\n",
    "CENTER_COORD = (37.8715, -122.2730) # berkeley city center coordinate\n",
    "\n",
    "us_map = folium.Map(location=CENTER_COORD, zoom_start=12)\n",
    "heatmap = folium.plugins.HeatMap(locs.tolist(), radius = 10)\n",
    "us_map.add_child(heatmap)"
   ]
  },
  {
   "cell_type": "markdown",
   "metadata": {},
   "source": [
    "### Task 2b: describe what you have analyzed and what you have not\n",
    "\n",
    "By looking at past selections in the cells, or by using `m.all_selections`. This is important for documentation---this helps differentiate insights that are absent from those non-existent."
   ]
  },
  {
   "cell_type": "markdown",
   "metadata": {},
   "source": [
    "### Task 3: model incidents\n",
    "\n",
    "The police department at Berkeley asks you for recommendations for how to station their officers. We understand that you may not have enough background on how public safety/police works, but please try it out and state sources of bias and possible mis-information. Please do some free form exploratory data analysis, and maybe some statistics and modeling as well.\n",
    "\n",
    "We have provided an additional data source below of arrests from the berkeley city open data platform, in case you might find it useful.\n",
    "\n",
    "**Please just use `calls_df` for this task, and wrap up by 30 min.**"
   ]
  },
  {
   "cell_type": "code",
   "execution_count": null,
   "metadata": {},
   "outputs": [],
   "source": [
    "from midas.util.utils import fetch_and_cache"
   ]
  },
  {
   "cell_type": "code",
   "execution_count": null,
   "metadata": {},
   "outputs": [],
   "source": [
    "arrest_url = \"https://data.cityofberkeley.info/resource/xi7q-nji6.csv\"\n",
    "arrest_path = fetch_and_cache(arrest_url, \"berkeley_arrests.csv\", force = False)"
   ]
  },
  {
   "cell_type": "code",
   "execution_count": null,
   "metadata": {},
   "outputs": [],
   "source": [
    "# this data, the berkeley website has given no descriptions for\n",
    "arrest_df = m.from_file(arrest_path)\n",
    "arrest_df.head(3)"
   ]
  },
  {
   "cell_type": "code",
   "execution_count": null,
   "metadata": {},
   "outputs": [],
   "source": [
    "# some helper functions\n",
    "from datetime import datetime\n",
    "fun = lambda e: datetime.strptime(e, \"%Y-%m-%dT%H:%M:%S.%f\")\n",
    "arrest_df['parsed_dt'] = arrest_df.apply(fun, 'date_and_time')\n",
    "arrest_df.head(2)"
   ]
  }
 ],
 "metadata": {
  "kernelspec": {
   "display_name": "Python 3",
   "language": "python",
   "name": "python3"
  },
  "language_info": {
   "codemirror_mode": {
    "name": "ipython",
    "version": 3
   },
   "file_extension": ".py",
   "mimetype": "text/x-python",
   "name": "python",
   "nbconvert_exporter": "python",
   "pygments_lexer": "ipython3",
   "version": "3.7.4"
  }
 },
 "nbformat": 4,
 "nbformat_minor": 2
}
